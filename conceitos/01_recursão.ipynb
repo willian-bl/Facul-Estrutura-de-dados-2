{
 "cells": [
  {
   "cell_type": "markdown",
   "metadata": {},
   "source": [
    "> # Recursão\n",
    "---"
   ]
  },
  {
   "cell_type": "markdown",
   "metadata": {},
   "source": [
    "**Recursão** é uma Técnica de programação, onde uma função \"chama\" ela mesma, mas com parâmetros diferentes\n",
    "\n",
    "- Condição de parada: Onde paramos a chamada da função/recursividade\n",
    "- Tipos de recursividade:\n",
    "    - Direta: função `f` chama `f`\n",
    "    - Indireta: função `f` chama `g` que chama `h` que chama a `f`. Assim, fechamos uma cadeia de recursividade\n",
    "- Recursividade consome muito recurso da máquina, então é bom evitar em códigos complexos"
   ]
  },
  {
   "cell_type": "markdown",
   "metadata": {},
   "source": [
    "## Exemplo"
   ]
  },
  {
   "cell_type": "markdown",
   "metadata": {},
   "source": [
    "### Usando loop:"
   ]
  },
  {
   "cell_type": "code",
   "execution_count": 1,
   "metadata": {},
   "outputs": [],
   "source": [
    "def imprimeNumeros(n):\n",
    "    for i in range(n):\n",
    "        print(i+1, end=' ')\n",
    "\n",
    "def numerosImprime(n):\n",
    "    for i in range(n, 0, -1):\n",
    "        print(i, end=' ')"
   ]
  },
  {
   "cell_type": "markdown",
   "metadata": {},
   "source": [
    "### Usando recursão:"
   ]
  },
  {
   "cell_type": "code",
   "execution_count": 2,
   "metadata": {},
   "outputs": [],
   "source": [
    "def imprimeNumerosRec(n):  # Ordem crescente\n",
    "    if n == 0:\n",
    "        return\n",
    "    imprimeNumerosRec(n-1)\n",
    "    print(n, end=' ')\n",
    "\n",
    "def numerosImprimeRec(n):  # Ordem decrescente\n",
    "    if n == 0:\n",
    "        return\n",
    "    print(n, end=' ')\n",
    "    numerosImprimeRec(n-1)"
   ]
  },
  {
   "cell_type": "markdown",
   "metadata": {},
   "source": [
    "### Resultado:"
   ]
  },
  {
   "cell_type": "code",
   "execution_count": 3,
   "metadata": {},
   "outputs": [
    {
     "name": "stdout",
     "output_type": "stream",
     "text": [
      "1 2 3 4 5 \n",
      "1 2 3 4 5 "
     ]
    }
   ],
   "source": [
    "x = 5\n",
    "\n",
    "imprimeNumeros(x)\n",
    "print()\n",
    "imprimeNumerosRec(x)"
   ]
  },
  {
   "cell_type": "code",
   "execution_count": 4,
   "metadata": {},
   "outputs": [
    {
     "name": "stdout",
     "output_type": "stream",
     "text": [
      "5 4 3 2 1 \n",
      "5 4 3 2 1 "
     ]
    }
   ],
   "source": [
    "numerosImprime(x)\n",
    "print()\n",
    "numerosImprimeRec(x)"
   ]
  },
  {
   "cell_type": "markdown",
   "metadata": {},
   "source": [
    "## Exercícios"
   ]
  },
  {
   "cell_type": "markdown",
   "metadata": {},
   "source": [
    "### `1.` Escrever uma função recursiva para mostrar a representação binária de um número inteiro"
   ]
  },
  {
   "cell_type": "code",
   "execution_count": 5,
   "metadata": {},
   "outputs": [
    {
     "name": "stdout",
     "output_type": "stream",
     "text": [
      "1 0 0 0 \n",
      "1 1 1 1 0 0 0 0 "
     ]
    }
   ],
   "source": [
    "def mostra_binario(n):\n",
    "    if n == 0:\n",
    "        return\n",
    "    q = n // 2\n",
    "\n",
    "    mostra_binario(q)\n",
    "\n",
    "    r = n % 2\n",
    "    print(r, end=' ')\n",
    "\n",
    "\n",
    "mostra_binario(8)\n",
    "print()\n",
    "mostra_binario(240)"
   ]
  },
  {
   "cell_type": "markdown",
   "metadata": {},
   "source": [
    "### `2.` Escrever uma função recursiva para mostrar o número de dígitos de um número inteiro"
   ]
  },
  {
   "cell_type": "code",
   "execution_count": 13,
   "metadata": {},
   "outputs": [
    {
     "name": "stdout",
     "output_type": "stream",
     "text": [
      "Com loop: 4\n"
     ]
    }
   ],
   "source": [
    "x = 2023\n",
    "s = str(x)\n",
    "\n",
    "# Fazendo com loop\n",
    "cont = 0\n",
    "for char in s:\n",
    "    cont += 1\n",
    "\n",
    "print(f'Com loop: {cont}')\n",
    "\n",
    "# Função recursiva\n",
    "def conta_recursivo(s):\n"
   ]
  },
  {
   "cell_type": "code",
   "execution_count": 9,
   "metadata": {},
   "outputs": [
    {
     "ename": "IndexError",
     "evalue": "string index out of range",
     "output_type": "error",
     "traceback": [
      "\u001b[1;31m---------------------------------------------------------------------------\u001b[0m",
      "\u001b[1;31mIndexError\u001b[0m                                Traceback (most recent call last)",
      "Cell \u001b[1;32mIn[9], line 2\u001b[0m\n\u001b[0;32m      1\u001b[0m s \u001b[39m=\u001b[39m \u001b[39mstr\u001b[39m(\u001b[39m51\u001b[39m)\n\u001b[1;32m----> 2\u001b[0m \u001b[39mprint\u001b[39m(s[\u001b[39m-\u001b[39;49m\u001b[39m3\u001b[39;49m])\n",
      "\u001b[1;31mIndexError\u001b[0m: string index out of range"
     ]
    }
   ],
   "source": [
    "s = str(51)\n",
    "print(s[-1])"
   ]
  },
  {
   "cell_type": "markdown",
   "metadata": {},
   "source": [
    "### `3.` Escrever uma função recursiva para inverter um número inteiro"
   ]
  },
  {
   "cell_type": "code",
   "execution_count": null,
   "metadata": {},
   "outputs": [],
   "source": []
  },
  {
   "cell_type": "markdown",
   "metadata": {},
   "source": [
    "### `4.`"
   ]
  }
 ],
 "metadata": {
  "kernelspec": {
   "display_name": "Python 3",
   "language": "python",
   "name": "python3"
  },
  "language_info": {
   "codemirror_mode": {
    "name": "ipython",
    "version": 3
   },
   "file_extension": ".py",
   "mimetype": "text/x-python",
   "name": "python",
   "nbconvert_exporter": "python",
   "pygments_lexer": "ipython3",
   "version": "3.11.4"
  },
  "orig_nbformat": 4
 },
 "nbformat": 4,
 "nbformat_minor": 2
}
