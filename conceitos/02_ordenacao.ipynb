{
 "cells": [
  {
   "cell_type": "markdown",
   "metadata": {},
   "source": [
    "> # Ordenação\n",
    "---"
   ]
  },
  {
   "cell_type": "markdown",
   "metadata": {},
   "source": [
    "**Ordenação**: Nas aulas, faremos a apresentação de alguns algoritmos para a classificação (crescente ou decrescente) de um conjunto de valores"
   ]
  },
  {
   "cell_type": "markdown",
   "metadata": {},
   "source": [
    "O que é **ordenação**? É classificar um conjunto de vetores/dados de forma crescente ou decrescente. <br>"
   ]
  },
  {
   "cell_type": "markdown",
   "metadata": {},
   "source": [
    "### Classificação dos algoritmos de ordenação\n",
    "---\n",
    "\n",
    "A ordenação pode ser **interna** ou **externa**\n",
    "- Interna: todos os dados a serem classificados estão na memória interna (RAM)\n",
    "- Externa: parte ou a totalidade dos dados estão em disco (na memória externa)\n",
    "---\n",
    "\n",
    "Algoritmos de ordenação podem ser **estáveis** ou **não estáveis**\n",
    "\n",
    "Exemplo:\n",
    "\n",
    "Algoritmo 1 aplicado no conjunto: <br>\n",
    "10, 5, 4, **5**, 3, 8 <br>\n",
    "Após a classificação: <br>\n",
    "3, 4, 5, **5**, 8, 10 <br>\n",
    "**ESTÁVEL**: Para elementos iguais, mantém a posição relativa. Se um elemento igual `A` vem antes de outro `a`, então ele vai manter esse elemento `A` vindo antes do `a`. No não estável isso não acontece\n",
    "\n",
    "Algoritmo 2 aplicado no conjunto: <br>\n",
    "10, 5, 4, **5**, 3, 8 <br>\n",
    "Após a classificação: <br>\n",
    "3, 4, **5**, 5, 8, 10 <br>\n",
    "**NÃO ESTAVEL**"
   ]
  },
  {
   "cell_type": "markdown",
   "metadata": {},
   "source": [
    "Obs: Quando temos que ordenar conjuntos com elementos muito grandes, ordenamos os **ponteiros** para agilizar na hora de fazer a troca"
   ]
  },
  {
   "cell_type": "markdown",
   "metadata": {},
   "source": [
    "## Algoritmos de ordenação"
   ]
  },
  {
   "cell_type": "markdown",
   "metadata": {},
   "source": [
    "Extra: Gerador de números aleatórios para usar para testar os algoritmos"
   ]
  },
  {
   "cell_type": "code",
   "execution_count": 1,
   "metadata": {},
   "outputs": [],
   "source": [
    "from random import randint\n",
    "\n",
    "def gera_lista(qtd_num=10000, inicio=0, fim=1000000):\n",
    "    lista = []\n",
    "    for i in range(qtd_num):\n",
    "        lista.append(randint(inicio, fim))\n",
    "    return lista\n",
    "\n",
    "lista_maior = gera_lista()\n",
    "# print(lista_maior)"
   ]
  },
  {
   "cell_type": "markdown",
   "metadata": {},
   "source": [
    "## Exercícios"
   ]
  },
  {
   "cell_type": "markdown",
   "metadata": {},
   "source": [
    "### Selection Sort\n",
    "(Classificação por seleção)"
   ]
  },
  {
   "cell_type": "markdown",
   "metadata": {},
   "source": [
    "Ordenação por seleção:\n",
    "Selecionamos o menor de todos e jogamos na posição correta. Depois o segundo menor e por aí vai. "
   ]
  },
  {
   "cell_type": "code",
   "execution_count": 2,
   "metadata": {},
   "outputs": [],
   "source": [
    "def selection_sort(lis):\n",
    "    for p in range(len(lis) - 1):\n",
    "        ime = p  # Armazena em ime o indice do menor elemento\n",
    "        for i in range(p+1, len(lis)):  # Percorre o vetor para encontrar a posição do menor elemento\n",
    "            if lis[i] < lis[ime]:\n",
    "                ime = i\n",
    "        lis[p], lis[ime] = lis[ime], lis[p]\n",
    "        # print('\\n', lis, end='')"
   ]
  },
  {
   "cell_type": "code",
   "execution_count": 3,
   "metadata": {},
   "outputs": [],
   "source": [
    "lista_menor_bkp = [9, 6, 7, 4, 3, 1, 2, 10, 5, 8]"
   ]
  },
  {
   "cell_type": "code",
   "execution_count": 4,
   "metadata": {},
   "outputs": [],
   "source": [
    "# selection_sort(lista_maior)\n",
    "# print(lista_maior)"
   ]
  },
  {
   "cell_type": "markdown",
   "metadata": {},
   "source": [
    "#### Extra: Modificar o algoritmo de seleção para que ao invés de ele começar selecionando o menor e indo para o maior elemento, começar do maior e ir para o menor"
   ]
  },
  {
   "cell_type": "code",
   "execution_count": 5,
   "metadata": {},
   "outputs": [],
   "source": [
    "def selection_sort2(lis):\n",
    "    for p in range(len(lis)-1, 0, -1):\n",
    "        ima = p  # Armazena em ime o indice do maior elemento\n",
    "        for i in range(p-1, -1, -1):  # Percorre o vetor para encontrar a posição do maior elemento\n",
    "            if lis[i] > lis[ima]:\n",
    "                ima = i\n",
    "        lis[p], lis[ima] = lis[ima], lis[p]\n",
    "        print('\\n', lis, end='')"
   ]
  },
  {
   "cell_type": "code",
   "execution_count": 6,
   "metadata": {},
   "outputs": [
    {
     "name": "stdout",
     "output_type": "stream",
     "text": [
      "\n",
      " [9, 6, 7, 4, 3, 1, 2, 8, 5, 10]\n",
      " [5, 6, 7, 4, 3, 1, 2, 8, 9, 10]\n",
      " [5, 6, 7, 4, 3, 1, 2, 8, 9, 10]\n",
      " [5, 6, 2, 4, 3, 1, 7, 8, 9, 10]\n",
      " [5, 1, 2, 4, 3, 6, 7, 8, 9, 10]\n",
      " [3, 1, 2, 4, 5, 6, 7, 8, 9, 10]\n",
      " [3, 1, 2, 4, 5, 6, 7, 8, 9, 10]\n",
      " [2, 1, 3, 4, 5, 6, 7, 8, 9, 10]\n",
      " [1, 2, 3, 4, 5, 6, 7, 8, 9, 10]"
     ]
    }
   ],
   "source": [
    "lista_menor = lista_menor_bkp.copy()\n",
    "selection_sort2(lista_menor)"
   ]
  },
  {
   "cell_type": "markdown",
   "metadata": {},
   "source": [
    "### Bubble Sort\n",
    "(Classificação por troca - Método da bolha ou Bubble sort)"
   ]
  },
  {
   "cell_type": "markdown",
   "metadata": {},
   "source": [
    "- A cada passagem, através de trocas entre os elementos do conjunto, coloca um dos elementos na sua posição correta <br>\n",
    "- O maior sempre vai para o fim ou o menor sempre vai para o início\n",
    "\n",
    "Algoritmo:\n",
    "- Compara `x[i]` com `x[i+1]`. Se `x[i]` for maior que `x[i+1]`, troca a posição dos elementos. <br>\n",
    "- Continua com a próxima repetição"
   ]
  },
  {
   "cell_type": "code",
   "execution_count": 7,
   "metadata": {},
   "outputs": [],
   "source": [
    "def bubble_sort(lis):\n",
    "    for p in range(1, len(lis)):\n",
    "        print(f'\\nPasso: {p}')\n",
    "        for i in range(len(lis) - p):\n",
    "            if lis[i] > lis[i+1]:\n",
    "                lis[i], lis[i+1] = lis[i+1], lis[i]\n",
    "            print(lis)"
   ]
  },
  {
   "cell_type": "code",
   "execution_count": 30,
   "metadata": {},
   "outputs": [
    {
     "name": "stdout",
     "output_type": "stream",
     "text": [
      "\n",
      "\n",
      "[25, 57, 48, 37, 12, 92, 86, 33]\n",
      "\n",
      "Passo: 1\n",
      "[25, 57, 48, 37, 12, 92, 86, 33]\n",
      "[25, 48, 57, 37, 12, 92, 86, 33]\n",
      "[25, 48, 37, 57, 12, 92, 86, 33]\n",
      "[25, 48, 37, 12, 57, 92, 86, 33]\n",
      "[25, 48, 37, 12, 57, 92, 86, 33]\n",
      "[25, 48, 37, 12, 57, 86, 92, 33]\n",
      "[25, 48, 37, 12, 57, 86, 33, 92]\n",
      "\n",
      "Passo: 2\n",
      "[25, 48, 37, 12, 57, 86, 33, 92]\n",
      "[25, 37, 48, 12, 57, 86, 33, 92]\n",
      "[25, 37, 12, 48, 57, 86, 33, 92]\n",
      "[25, 37, 12, 48, 57, 86, 33, 92]\n",
      "[25, 37, 12, 48, 57, 86, 33, 92]\n",
      "[25, 37, 12, 48, 57, 33, 86, 92]\n",
      "\n",
      "Passo: 3\n",
      "[25, 37, 12, 48, 57, 33, 86, 92]\n",
      "[25, 12, 37, 48, 57, 33, 86, 92]\n",
      "[25, 12, 37, 48, 57, 33, 86, 92]\n",
      "[25, 12, 37, 48, 57, 33, 86, 92]\n",
      "[25, 12, 37, 48, 33, 57, 86, 92]\n",
      "\n",
      "Passo: 4\n",
      "[12, 25, 37, 48, 33, 57, 86, 92]\n",
      "[12, 25, 37, 48, 33, 57, 86, 92]\n",
      "[12, 25, 37, 48, 33, 57, 86, 92]\n",
      "[12, 25, 37, 33, 48, 57, 86, 92]\n",
      "\n",
      "Passo: 5\n",
      "[12, 25, 37, 33, 48, 57, 86, 92]\n",
      "[12, 25, 37, 33, 48, 57, 86, 92]\n",
      "[12, 25, 33, 37, 48, 57, 86, 92]\n",
      "\n",
      "Passo: 6\n",
      "[12, 25, 33, 37, 48, 57, 86, 92]\n",
      "[12, 25, 33, 37, 48, 57, 86, 92]\n",
      "\n",
      "Passo: 7\n",
      "[12, 25, 33, 37, 48, 57, 86, 92]\n",
      "Vetor ordenado: [12, 25, 33, 37, 48, 57, 86, 92] \n",
      "\n"
     ]
    }
   ],
   "source": [
    "# Resolução do professor - depois ver se está igual a minha\n",
    "def bolha(lis):\n",
    "    for p in range(1,len(lis)):\n",
    "        print(f'\\nPasso: {p}')\n",
    "        for i in range(len(lis)-p):\n",
    "            if lis[i] > lis[i+1]:\n",
    "                lis[i],lis[i+1]=lis[i+1],lis[i]\n",
    "            print(lis)\n",
    "\n",
    "print('\\n')\n",
    "vet1=[25,57,48,37,12,92,86,33]\n",
    "print(vet1)\n",
    "bolha(vet1)\n",
    "print(f'Vetor ordenado: {vet1} \\n')\n"
   ]
  },
  {
   "cell_type": "code",
   "execution_count": 8,
   "metadata": {},
   "outputs": [
    {
     "name": "stdout",
     "output_type": "stream",
     "text": [
      "\n",
      "Passo: 1\n",
      "[6, 9, 7, 4, 3, 1, 2, 10, 5, 8]\n",
      "[6, 7, 9, 4, 3, 1, 2, 10, 5, 8]\n",
      "[6, 7, 4, 9, 3, 1, 2, 10, 5, 8]\n",
      "[6, 7, 4, 3, 9, 1, 2, 10, 5, 8]\n",
      "[6, 7, 4, 3, 1, 9, 2, 10, 5, 8]\n",
      "[6, 7, 4, 3, 1, 2, 9, 10, 5, 8]\n",
      "[6, 7, 4, 3, 1, 2, 9, 10, 5, 8]\n",
      "[6, 7, 4, 3, 1, 2, 9, 5, 10, 8]\n",
      "[6, 7, 4, 3, 1, 2, 9, 5, 8, 10]\n",
      "\n",
      "Passo: 2\n",
      "[6, 7, 4, 3, 1, 2, 9, 5, 8, 10]\n",
      "[6, 4, 7, 3, 1, 2, 9, 5, 8, 10]\n",
      "[6, 4, 3, 7, 1, 2, 9, 5, 8, 10]\n",
      "[6, 4, 3, 1, 7, 2, 9, 5, 8, 10]\n",
      "[6, 4, 3, 1, 2, 7, 9, 5, 8, 10]\n",
      "[6, 4, 3, 1, 2, 7, 9, 5, 8, 10]\n",
      "[6, 4, 3, 1, 2, 7, 5, 9, 8, 10]\n",
      "[6, 4, 3, 1, 2, 7, 5, 8, 9, 10]\n",
      "\n",
      "Passo: 3\n",
      "[4, 6, 3, 1, 2, 7, 5, 8, 9, 10]\n",
      "[4, 3, 6, 1, 2, 7, 5, 8, 9, 10]\n",
      "[4, 3, 1, 6, 2, 7, 5, 8, 9, 10]\n",
      "[4, 3, 1, 2, 6, 7, 5, 8, 9, 10]\n",
      "[4, 3, 1, 2, 6, 7, 5, 8, 9, 10]\n",
      "[4, 3, 1, 2, 6, 5, 7, 8, 9, 10]\n",
      "[4, 3, 1, 2, 6, 5, 7, 8, 9, 10]\n",
      "\n",
      "Passo: 4\n",
      "[3, 4, 1, 2, 6, 5, 7, 8, 9, 10]\n",
      "[3, 1, 4, 2, 6, 5, 7, 8, 9, 10]\n",
      "[3, 1, 2, 4, 6, 5, 7, 8, 9, 10]\n",
      "[3, 1, 2, 4, 6, 5, 7, 8, 9, 10]\n",
      "[3, 1, 2, 4, 5, 6, 7, 8, 9, 10]\n",
      "[3, 1, 2, 4, 5, 6, 7, 8, 9, 10]\n",
      "\n",
      "Passo: 5\n",
      "[1, 3, 2, 4, 5, 6, 7, 8, 9, 10]\n",
      "[1, 2, 3, 4, 5, 6, 7, 8, 9, 10]\n",
      "[1, 2, 3, 4, 5, 6, 7, 8, 9, 10]\n",
      "[1, 2, 3, 4, 5, 6, 7, 8, 9, 10]\n",
      "[1, 2, 3, 4, 5, 6, 7, 8, 9, 10]\n",
      "\n",
      "Passo: 6\n",
      "[1, 2, 3, 4, 5, 6, 7, 8, 9, 10]\n",
      "[1, 2, 3, 4, 5, 6, 7, 8, 9, 10]\n",
      "[1, 2, 3, 4, 5, 6, 7, 8, 9, 10]\n",
      "[1, 2, 3, 4, 5, 6, 7, 8, 9, 10]\n",
      "\n",
      "Passo: 7\n",
      "[1, 2, 3, 4, 5, 6, 7, 8, 9, 10]\n",
      "[1, 2, 3, 4, 5, 6, 7, 8, 9, 10]\n",
      "[1, 2, 3, 4, 5, 6, 7, 8, 9, 10]\n",
      "\n",
      "Passo: 8\n",
      "[1, 2, 3, 4, 5, 6, 7, 8, 9, 10]\n",
      "[1, 2, 3, 4, 5, 6, 7, 8, 9, 10]\n",
      "\n",
      "Passo: 9\n",
      "[1, 2, 3, 4, 5, 6, 7, 8, 9, 10]\n"
     ]
    }
   ],
   "source": [
    "lista_menor = lista_menor_bkp.copy()\n",
    "bubble_sort(lista_menor)"
   ]
  },
  {
   "cell_type": "markdown",
   "metadata": {},
   "source": [
    "#### Exercício para treinar: Modificar o bubble sort para que na hora que identificar que o vetor já estiver ordenado, sair do algoritmo de ordenação"
   ]
  },
  {
   "cell_type": "code",
   "execution_count": 9,
   "metadata": {},
   "outputs": [],
   "source": [
    "def bubble_sort2(lis):\n",
    "    for p in range(1, len(lis)):\n",
    "        print(f'\\nPasso: {p}')\n",
    "        \n",
    "        trocou = False\n",
    "        for i in range(len(lis) - p):\n",
    "            if lis[i] > lis[i+1]:\n",
    "                lis[i], lis[i+1] = lis[i+1], lis[i]\n",
    "                trocou = True\n",
    "            print(lis)\n",
    "\n",
    "        if not trocou:\n",
    "            break"
   ]
  },
  {
   "cell_type": "code",
   "execution_count": 10,
   "metadata": {},
   "outputs": [
    {
     "name": "stdout",
     "output_type": "stream",
     "text": [
      "\n",
      "Passo: 1\n",
      "[6, 9, 7, 4, 3, 1, 2, 10, 5, 8]\n",
      "[6, 7, 9, 4, 3, 1, 2, 10, 5, 8]\n",
      "[6, 7, 4, 9, 3, 1, 2, 10, 5, 8]\n",
      "[6, 7, 4, 3, 9, 1, 2, 10, 5, 8]\n",
      "[6, 7, 4, 3, 1, 9, 2, 10, 5, 8]\n",
      "[6, 7, 4, 3, 1, 2, 9, 10, 5, 8]\n",
      "[6, 7, 4, 3, 1, 2, 9, 10, 5, 8]\n",
      "[6, 7, 4, 3, 1, 2, 9, 5, 10, 8]\n",
      "[6, 7, 4, 3, 1, 2, 9, 5, 8, 10]\n",
      "\n",
      "Passo: 2\n",
      "[6, 7, 4, 3, 1, 2, 9, 5, 8, 10]\n",
      "[6, 4, 7, 3, 1, 2, 9, 5, 8, 10]\n",
      "[6, 4, 3, 7, 1, 2, 9, 5, 8, 10]\n",
      "[6, 4, 3, 1, 7, 2, 9, 5, 8, 10]\n",
      "[6, 4, 3, 1, 2, 7, 9, 5, 8, 10]\n",
      "[6, 4, 3, 1, 2, 7, 9, 5, 8, 10]\n",
      "[6, 4, 3, 1, 2, 7, 5, 9, 8, 10]\n",
      "[6, 4, 3, 1, 2, 7, 5, 8, 9, 10]\n",
      "\n",
      "Passo: 3\n",
      "[4, 6, 3, 1, 2, 7, 5, 8, 9, 10]\n",
      "[4, 3, 6, 1, 2, 7, 5, 8, 9, 10]\n",
      "[4, 3, 1, 6, 2, 7, 5, 8, 9, 10]\n",
      "[4, 3, 1, 2, 6, 7, 5, 8, 9, 10]\n",
      "[4, 3, 1, 2, 6, 7, 5, 8, 9, 10]\n",
      "[4, 3, 1, 2, 6, 5, 7, 8, 9, 10]\n",
      "[4, 3, 1, 2, 6, 5, 7, 8, 9, 10]\n",
      "\n",
      "Passo: 4\n",
      "[3, 4, 1, 2, 6, 5, 7, 8, 9, 10]\n",
      "[3, 1, 4, 2, 6, 5, 7, 8, 9, 10]\n",
      "[3, 1, 2, 4, 6, 5, 7, 8, 9, 10]\n",
      "[3, 1, 2, 4, 6, 5, 7, 8, 9, 10]\n",
      "[3, 1, 2, 4, 5, 6, 7, 8, 9, 10]\n",
      "[3, 1, 2, 4, 5, 6, 7, 8, 9, 10]\n",
      "\n",
      "Passo: 5\n",
      "[1, 3, 2, 4, 5, 6, 7, 8, 9, 10]\n",
      "[1, 2, 3, 4, 5, 6, 7, 8, 9, 10]\n",
      "[1, 2, 3, 4, 5, 6, 7, 8, 9, 10]\n",
      "[1, 2, 3, 4, 5, 6, 7, 8, 9, 10]\n",
      "[1, 2, 3, 4, 5, 6, 7, 8, 9, 10]\n",
      "\n",
      "Passo: 6\n",
      "[1, 2, 3, 4, 5, 6, 7, 8, 9, 10]\n",
      "[1, 2, 3, 4, 5, 6, 7, 8, 9, 10]\n",
      "[1, 2, 3, 4, 5, 6, 7, 8, 9, 10]\n",
      "[1, 2, 3, 4, 5, 6, 7, 8, 9, 10]\n"
     ]
    }
   ],
   "source": [
    "bubble_sort2(lista_menor_bkp.copy())"
   ]
  },
  {
   "cell_type": "markdown",
   "metadata": {},
   "source": [
    "### Classificação por contagem"
   ]
  },
  {
   "cell_type": "markdown",
   "metadata": {},
   "source": [
    "Uma classificação por contagem é definida da seguinte maneira:\n",
    "- Declare um vetor count e coloque em `count[i]` a quantidade de elementos menores que `x[i]`. `x` é o vetor a ser classificado\n",
    "- Em seguida, coloque `x[i]` na posição `count[i]` do vetor de saída"
   ]
  },
  {
   "cell_type": "code",
   "execution_count": 11,
   "metadata": {},
   "outputs": [],
   "source": [
    "def classifica_contagem(lis):\n",
    "    count = []\n",
    "    lis_final = [0 for _ in range(len(lis))]\n",
    "\n",
    "    for i in range(len(lis)):\n",
    "        menores_que_i = 0\n",
    "        for j in range(len(lis)):\n",
    "            if lis[j] < lis[i]:\n",
    "                menores_que_i += 1\n",
    "        count.append(menores_que_i)\n",
    "    \n",
    "    for x, y in zip(lis, count):\n",
    "        lis_final[y] = x \n",
    "    \n",
    "    return lis_final\n"
   ]
  },
  {
   "cell_type": "code",
   "execution_count": 12,
   "metadata": {},
   "outputs": [
    {
     "name": "stdout",
     "output_type": "stream",
     "text": [
      "[1, 5, 7, 8, 9]\n"
     ]
    }
   ],
   "source": [
    "# Resolução do professor\n",
    "def classificaContagem(x, saida):\n",
    "    count= []\n",
    "    for i in range(len(x)):\n",
    "        count.append(0)\n",
    "        saida.append(0)\n",
    "\n",
    "    for i in range(len(x)):\n",
    "        for j in range(len(x)):\n",
    "            if x[j] < x[i]:\n",
    "                count[i] = count[i] + 1\n",
    "    \n",
    "    for i in range(len(x)):\n",
    "        saida[count[i]] = x[i]\n",
    "\n",
    "lista = [5, 9, 1, 8, 7]\n",
    "lista2 = []\n",
    "classificaContagem(lista, lista2)\n",
    "print(lista2)"
   ]
  },
  {
   "cell_type": "code",
   "execution_count": 13,
   "metadata": {},
   "outputs": [
    {
     "name": "stdout",
     "output_type": "stream",
     "text": [
      "[9, 6, 7, 4, 3, 1, 2, 10, 5, 8]\n",
      "[1, 2, 3, 4, 5, 6, 7, 8, 9, 10]\n"
     ]
    }
   ],
   "source": [
    "lista_menor = lista_menor_bkp.copy()\n",
    "\n",
    "print(lista_menor)\n",
    "lista_final = classifica_contagem(lista_menor)\n",
    "print(lista_final)"
   ]
  },
  {
   "cell_type": "markdown",
   "metadata": {},
   "source": [
    "### Transposição ímpar-par"
   ]
  },
  {
   "cell_type": "markdown",
   "metadata": {},
   "source": [
    "Algoritmo:\n",
    "- Percorra o vetor várias vezes. \n",
    "    - Na primeira passagem, compare `x[i]` com `x[i+1]` para todo `i` ímpar.\n",
    "    - Na segunda passagem, compare `x[i]` com `x[i+1]` para todo `i` par.\n",
    "    - Toda vez que `x[i] > x[i+1]`, troque os dois.\n",
    "- Continue passando e alternando as comparações para `i` ímpar e `i` par, até que o vetor esteja ordenado "
   ]
  },
  {
   "cell_type": "code",
   "execution_count": 14,
   "metadata": {},
   "outputs": [
    {
     "name": "stdout",
     "output_type": "stream",
     "text": [
      "[9, 6, 7, 4, 3, 1, 2, 10, 5, 8]\n",
      "[1, 2, 3, 4, 5, 6, 7, 8, 9, 10]\n"
     ]
    }
   ],
   "source": [
    "def transposicao(lis):\n",
    "    controle = 'impar'\n",
    "    for i in range(len(lis)):\n",
    "        if controle == 'impar':\n",
    "            for j in range(1, len(lis)-1, 2):\n",
    "                if lis[j] > lis[j+1]: \n",
    "                    lis[j], lis[j+1] = lis[j+1], lis[j]\n",
    "            controle = 'par'\n",
    "\n",
    "        elif controle == 'par':\n",
    "            for j in range(0, len(lis)-1, 2):\n",
    "                if lis[j] > lis[j+1]: \n",
    "                    lis[j], lis[j+1] = lis[j+1], lis[j]\n",
    "            controle = 'impar'\n",
    "\n",
    "lista_menor = lista_menor_bkp.copy()\n",
    "print(lista_menor)\n",
    "transposicao(lista_menor)\n",
    "print(lista_final)"
   ]
  },
  {
   "cell_type": "code",
   "execution_count": 15,
   "metadata": {},
   "outputs": [
    {
     "name": "stdout",
     "output_type": "stream",
     "text": [
      "[9, 6, 7, 4, 3, 1, 2, 10, 5, 8]\n",
      "[1, 2, 3, 4, 5, 6, 7, 8, 9, 10]\n"
     ]
    }
   ],
   "source": [
    "# Resolução do professor\n",
    "def metodoImparPar(x):\n",
    "    continua = True\n",
    "    while continua:\n",
    "        continua = False\n",
    "        i = 1\n",
    "        while(i < len(x)-1):\n",
    "            if x[i] > x[i+1]:\n",
    "                x[i], x[i+1] = x[i+1], x[i]\n",
    "                continua = True\n",
    "            i = i+2\n",
    "        \n",
    "        i = 0\n",
    "        while(i < len(x)-1):\n",
    "            if x[i] > x[i+1]:\n",
    "                x[i], x[i+1] = x[i+1], x[i]\n",
    "                continua = True\n",
    "            i = i+2\n",
    "\n",
    "lista_menor = lista_menor_bkp.copy()\n",
    "print(lista_menor)\n",
    "metodoImparPar(lista_menor)\n",
    "print(lista_final)"
   ]
  },
  {
   "cell_type": "markdown",
   "metadata": {},
   "source": [
    "### Quick Sort\n",
    "(Ordenação rápida)"
   ]
  },
  {
   "cell_type": "markdown",
   "metadata": {},
   "source": [
    "O algoritmo consistem de várias passagens (partição). Em cada passagem um elemento é colocado em sua posição correta dentro do vetor.\n",
    "\n",
    "Os elementos menores são colocados à esquera e os maiores à direita (no caso de ordenação crescente)\n",
    "\n",
    "O algoritmo é aplicado nos elementos da esquerda e depois nos elementos da direita"
   ]
  },
  {
   "cell_type": "code",
   "execution_count": 23,
   "metadata": {},
   "outputs": [],
   "source": [
    "def particao(x, li, ls):\n",
    "    a = x[li]\n",
    "    acima = ls\n",
    "    abaixo = li\n",
    "\n",
    "    while abaixo < acima:\n",
    "        while x[abaixo] <= a and abaixo < ls:\n",
    "            abaixo += 1\n",
    "        \n",
    "        while x[acima] > a:\n",
    "            acima -= 1\n",
    "        \n",
    "        if abaixo < acima:\n",
    "            x[abaixo], x[acima] = x[acima], x[abaixo]\n",
    "    \n",
    "    x[li] = x[acima]\n",
    "    x[acima] = a\n",
    "\n",
    "    print('\\n', x)\n",
    "    return a\n",
    "\n",
    "def quick(x, li, lf):\n",
    "    if li >= lf:\n",
    "        return\n",
    "\n",
    "    ret = particao(x, li, lf) # Retorna 5\n",
    "\n",
    "    quick(x, li, ret-1) # quick(x, 0, 4)\n",
    "    quick(x, ret+1, lf) # quick(x, 6, 15)"
   ]
  },
  {
   "cell_type": "code",
   "execution_count": 31,
   "metadata": {},
   "outputs": [
    {
     "name": "stdout",
     "output_type": "stream",
     "text": [
      "Nao ordenado: [12, 30, 15, 4, 5, 3, 70, 10, 2, 40, 50, 45, 25, 21, 23, 24] \n",
      "\n",
      "\n",
      "\n",
      " [3, 2, 10, 4, 5, 12, 70, 15, 30, 40, 50, 45, 25, 21, 23, 24]\n",
      "\n",
      " [2, 3, 10, 4, 5, 12, 70, 15, 30, 40, 50, 45, 25, 21, 23, 24]\n",
      "\n",
      " [2, 3, 5, 4, 10, 12, 70, 15, 30, 40, 50, 45, 25, 21, 23, 24]\n",
      "\n",
      " [2, 3, 4, 5, 10, 12, 70, 15, 30, 40, 50, 45, 25, 21, 23, 24]\n",
      "\n",
      " [2, 3, 4, 5, 10, 12, 24, 15, 30, 40, 50, 45, 25, 21, 23, 70]\n",
      "\n",
      " [2, 3, 4, 5, 10, 12, 21, 15, 23, 24, 50, 45, 25, 40, 30, 70]\n",
      "\n",
      " [2, 3, 4, 5, 10, 12, 15, 21, 23, 24, 50, 45, 25, 40, 30, 70]\n",
      "\n",
      " [2, 3, 4, 5, 10, 12, 15, 21, 23, 24, 30, 45, 25, 40, 50, 70]\n",
      "\n",
      " [2, 3, 4, 5, 10, 12, 15, 21, 23, 24, 25, 30, 45, 40, 50, 70]\n",
      "\n",
      " [2, 3, 4, 5, 10, 12, 15, 21, 23, 24, 25, 30, 40, 45, 50, 70]\n",
      "\n",
      "Ordenado quick: [2, 3, 4, 5, 10, 12, 15, 21, 23, 24, 25, 30, 40, 45, 50, 70] \n",
      "\n",
      "\n"
     ]
    }
   ],
   "source": [
    "# Salvando o algoritmo do professor, caso tenha algo diferente para a hora da prova\n",
    "def particao(x,li,ls):\n",
    "    a=x[li]\n",
    "    acima=ls\n",
    "    abaixo=li\n",
    "    while abaixo < acima:\n",
    "        while x[abaixo] <=a and abaixo<ls:\n",
    "            abaixo+=1\n",
    "        while x[acima]>a:\n",
    "            acima-=1\n",
    "        if abaixo < acima:\n",
    "            x[abaixo],x[acima]=x[acima],x[abaixo]\n",
    "    x[li]=x[acima]\n",
    "    x[acima]=a\n",
    "    print(\"\\n\",x)\n",
    "\n",
    "    return acima\n",
    "\n",
    "def quick(x,li,lf):\n",
    "\n",
    "    if (li >= lf):\n",
    "        return\n",
    "    ret = particao(x,li,lf)  # retorna 5\n",
    "    quick(x,li,ret-1)  # quick (x, 0, 4)\n",
    "    quick(x,ret+1,lf)  # quick (x, 6, 15)\n",
    "\n",
    "x=[12,30,15,4,5,3,70,10,2,40,50,45,25,21,23,24]\n",
    "print(f'Nao ordenado: {x} \\n\\n')\n",
    "quick(x,0,len(x)-1)\n",
    "print(f'\\nOrdenado quick: {x} \\n\\n')"
   ]
  },
  {
   "cell_type": "code",
   "execution_count": 25,
   "metadata": {},
   "outputs": [
    {
     "name": "stdout",
     "output_type": "stream",
     "text": [
      "[9, 6, 7, 4, 3, 1, 2, 10, 5, 8]\n",
      "\n",
      " [5, 6, 7, 4, 3, 1, 2, 8, 9, 10]\n",
      "\n",
      " [3, 2, 1, 4, 5, 7, 6, 8, 9, 10]\n",
      "\n",
      " [1, 2, 3, 4, 5, 7, 6, 8, 9, 10]\n",
      "\n",
      " [1, 2, 3, 4, 5, 7, 6, 8, 9, 10]\n",
      "\n",
      " [1, 2, 3, 4, 5, 7, 6, 8, 9, 10]\n",
      "\n",
      " [1, 2, 3, 4, 5, 7, 6, 8, 9, 10]\n"
     ]
    }
   ],
   "source": [
    "lis = lista_menor_bkp.copy()\n",
    "print(lis)\n",
    "quick(lis, 0, len(lis) - 1)"
   ]
  },
  {
   "cell_type": "markdown",
   "metadata": {},
   "source": [
    "### Ordenação por distribuição"
   ]
  },
  {
   "cell_type": "markdown",
   "metadata": {},
   "source": [
    "Suponha a existência de um conjunto de números repetidos entre a e b. Construa um algoritmo para classificar esse conjunto, utilizando essa característica como referência.\n",
    "\n",
    "Dica: Construir um vetor onde cada posição contém a quantidade de vezes que o número se repete no conjunto"
   ]
  },
  {
   "cell_type": "code",
   "execution_count": 27,
   "metadata": {},
   "outputs": [],
   "source": [
    "def ordena_contando(lis):\n",
    "    maior = max(lista)\n",
    "    menor = min(lista)  # contagem[0] -> menor, contagem[1] -> menor + 1\n",
    "    contagem = [0 for _ in range(menor, maior+1)]\n",
    "    aux = [i for i in range(menor, maior+1)]\n",
    "\n",
    "    for elemento in lis:\n",
    "        for i in range(len(contagem)):\n",
    "            if elemento == aux[i]:\n",
    "                contagem[i] += 1\n",
    "                break  # Sai do for, porque se achou com quem o número é igual, ele não é igual a mais nenhum outro \n",
    "    \n",
    "    nova_lis = []\n",
    "    indice = 0\n",
    "    for cont in contagem:\n",
    "        for i in range(cont):\n",
    "            nova_lis.append(aux[indice])\n",
    "        indice += 1\n",
    "    \n",
    "    return nova_lis\n",
    "    "
   ]
  },
  {
   "cell_type": "code",
   "execution_count": 28,
   "metadata": {},
   "outputs": [
    {
     "data": {
      "text/plain": [
       "[2, 4, 5, 5, 6, 6, 7, 7, 7, 8, 8, 8, 8, 9, 9, 9]"
      ]
     },
     "execution_count": 28,
     "metadata": {},
     "output_type": "execute_result"
    }
   ],
   "source": [
    "lista = [8, 9, 8, 8, 7, 6, 5, 4, 5, 8, 9, 2, 7, 6, 9, 7]\n",
    "ordena_contando(lista)"
   ]
  },
  {
   "cell_type": "code",
   "execution_count": 26,
   "metadata": {},
   "outputs": [
    {
     "name": "stdout",
     "output_type": "stream",
     "text": [
      "\n",
      " [5, 5, 6, 6, 6, 6, 8, 8, 9, 10, 12, 12, 18, 20]\n"
     ]
    }
   ],
   "source": [
    "# Resolução do professor\n",
    "def distribuicao(vet, a, b, saida):\n",
    "    tamanho = a - b + 1\n",
    "    number = []\n",
    "    for i in range(a, b + 1):\n",
    "        cont = 0\n",
    "        for j in range(0, len(vet)):\n",
    "            if (i == vet[j]):\n",
    "                cont += 1\n",
    "        number.append(cont)\n",
    "\n",
    "    valor = a\n",
    "    for i in range(0, len(number)):\n",
    "        for j in range(number[i]):\n",
    "            saida.append(valor)\n",
    "        valor += 1\n",
    "\n",
    "\n",
    "\n",
    "vet = [5, 6, 6, 6, 8, 8, 5, 18, 20, 6, 12, 12, 10, 9]\n",
    "saida = []\n",
    "distribuicao(vet, 5, 20, saida)\n",
    "print(\"\\n\", saida)"
   ]
  },
  {
   "cell_type": "code",
   "execution_count": 34,
   "metadata": {},
   "outputs": [
    {
     "data": {
      "text/plain": [
       "[2, 4, 6, 7, 8, 9, 12]"
      ]
     },
     "execution_count": 34,
     "metadata": {},
     "output_type": "execute_result"
    }
   ],
   "source": [
    "# Estudar para a prova: Fazer o último algoritmo de ordeção, mas sem repetição de elementos\n",
    "def ordena_contando_sem_rep(lis):\n",
    "    maior = max(lista)\n",
    "    menor = min(lista)  # contagem[0] -> menor, contagem[1] -> menor + 1\n",
    "    existe = [0 for _ in range(menor, maior+1)]\n",
    "    aux = [i for i in range(menor, maior+1)]\n",
    "\n",
    "    for elemento in lis:\n",
    "        for i in range(len(existe)):\n",
    "            if elemento == aux[i]:\n",
    "                existe[i] = 1\n",
    "                break  # Sai do for, porque se achou com quem o número é igual, ele não é igual a mais nenhum outro \n",
    "    \n",
    "    nova_lis = []\n",
    "    indice = 0\n",
    "    for e in existe:\n",
    "        if e:\n",
    "            nova_lis.append(aux[indice])\n",
    "        indice += 1\n",
    "    \n",
    "    return nova_lis\n",
    "\n",
    "lista = [8, 9, 8, 8, 7, 6, 4, 8, 12, 9, 2, 7, 6, 12, 9, 7]\n",
    "ordena_contando_sem_rep(lista)"
   ]
  },
  {
   "cell_type": "code",
   "execution_count": null,
   "metadata": {},
   "outputs": [],
   "source": []
  }
 ],
 "metadata": {
  "kernelspec": {
   "display_name": "Python 3",
   "language": "python",
   "name": "python3"
  },
  "language_info": {
   "codemirror_mode": {
    "name": "ipython",
    "version": 3
   },
   "file_extension": ".py",
   "mimetype": "text/x-python",
   "name": "python",
   "nbconvert_exporter": "python",
   "pygments_lexer": "ipython3",
   "version": "3.11.4"
  },
  "orig_nbformat": 4
 },
 "nbformat": 4,
 "nbformat_minor": 2
}
