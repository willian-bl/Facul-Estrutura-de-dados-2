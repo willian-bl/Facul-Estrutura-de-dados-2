{
 "cells": [
  {
   "cell_type": "markdown",
   "metadata": {},
   "source": [
    "> # Recursão\n",
    "---"
   ]
  },
  {
   "cell_type": "markdown",
   "metadata": {},
   "source": [
    "**Recursão** é uma Técnica de programação, onde uma função \"chama\" ela mesma, mas com parâmetros diferentes\n",
    "\n",
    "- Condição de parada: Onde paramos a chamada da função/recursividade\n",
    "- Tipos de recursividade:\n",
    "    - Direta: função `f` chama `f`\n",
    "    - Indireta: função `f` chama `g` que chama `h` que chama a `f`. Assim, fechamos uma cadeia de recursividade\n",
    "- Recursividade consome muito recurso da máquina, então é bom evitar em códigos complexos"
   ]
  },
  {
   "cell_type": "markdown",
   "metadata": {},
   "source": [
    "## Exemplos"
   ]
  },
  {
   "cell_type": "markdown",
   "metadata": {},
   "source": [
    "### Fatorial"
   ]
  },
  {
   "cell_type": "code",
   "execution_count": 1,
   "metadata": {},
   "outputs": [
    {
     "name": "stdout",
     "output_type": "stream",
     "text": [
      "720\n"
     ]
    }
   ],
   "source": [
    "def fatorial (n):\n",
    "    if (n==0): \n",
    "        return 1\n",
    "    else :\n",
    "        return n * fatorial(n-1)\n",
    "\n",
    "print(fatorial(6))"
   ]
  },
  {
   "cell_type": "markdown",
   "metadata": {},
   "source": [
    "### Fibonacci"
   ]
  },
  {
   "cell_type": "code",
   "execution_count": 2,
   "metadata": {},
   "outputs": [
    {
     "data": {
      "text/plain": [
       "34"
      ]
     },
     "execution_count": 2,
     "metadata": {},
     "output_type": "execute_result"
    }
   ],
   "source": [
    "def fibonacci(n):\n",
    "    \"\"\"\n",
    "    Retorna o número da n-ésima posição na Sequência de Fibonacci,\n",
    "    considerando que o elemento 1 (primeiro elemento) é o `0` e o segundo elemento é o `1`\n",
    "    \"\"\"\n",
    "\n",
    "    if n == 1:\n",
    "        return 0\n",
    "    elif n == 2:\n",
    "        return 1\n",
    "    else:\n",
    "        return fibonacci(n-1) + fibonacci(n-2)\n",
    "\n",
    "# Série para conferir se o retorno está correto:\n",
    "# 0, 1, 1, 2, 3, 5, 8, 13, 21, 34, 55, 89\n",
    "fibonacci(10)"
   ]
  },
  {
   "cell_type": "markdown",
   "metadata": {},
   "source": [
    "### Imprimindo números"
   ]
  },
  {
   "cell_type": "markdown",
   "metadata": {},
   "source": [
    "#### Usando loop:"
   ]
  },
  {
   "cell_type": "code",
   "execution_count": 3,
   "metadata": {},
   "outputs": [],
   "source": [
    "def imprimeNumeros(n):\n",
    "    for i in range(n):\n",
    "        print(i+1, end=' ')\n",
    "\n",
    "def numerosImprime(n):\n",
    "    for i in range(n, 0, -1):\n",
    "        print(i, end=' ')"
   ]
  },
  {
   "cell_type": "markdown",
   "metadata": {},
   "source": [
    "#### Usando recursão:"
   ]
  },
  {
   "cell_type": "code",
   "execution_count": 4,
   "metadata": {},
   "outputs": [],
   "source": [
    "def imprimeNumerosRec(n):  # Ordem crescente\n",
    "    if n == 0:\n",
    "        return\n",
    "    imprimeNumerosRec(n-1)\n",
    "    print(n, end=' ')\n",
    "\n",
    "def numerosImprimeRec(n):  # Ordem decrescente\n",
    "    if n == 0:\n",
    "        return\n",
    "    print(n, end=' ')\n",
    "    numerosImprimeRec(n-1)"
   ]
  },
  {
   "cell_type": "markdown",
   "metadata": {},
   "source": [
    "#### Resultado:"
   ]
  },
  {
   "cell_type": "code",
   "execution_count": 5,
   "metadata": {},
   "outputs": [
    {
     "name": "stdout",
     "output_type": "stream",
     "text": [
      "1 2 3 4 5 \n",
      "1 2 3 4 5 "
     ]
    }
   ],
   "source": [
    "x = 5\n",
    "\n",
    "imprimeNumeros(x)\n",
    "print()\n",
    "imprimeNumerosRec(x)"
   ]
  },
  {
   "cell_type": "code",
   "execution_count": 6,
   "metadata": {},
   "outputs": [
    {
     "name": "stdout",
     "output_type": "stream",
     "text": [
      "5 4 3 2 1 \n",
      "5 4 3 2 1 "
     ]
    }
   ],
   "source": [
    "numerosImprime(x)\n",
    "print()\n",
    "numerosImprimeRec(x)"
   ]
  },
  {
   "cell_type": "markdown",
   "metadata": {},
   "source": [
    "## Exercícios"
   ]
  },
  {
   "cell_type": "markdown",
   "metadata": {},
   "source": [
    "### `1.` Escrever uma função recursiva para mostrar a representação binária de um número inteiro"
   ]
  },
  {
   "cell_type": "code",
   "execution_count": 7,
   "metadata": {},
   "outputs": [
    {
     "name": "stdout",
     "output_type": "stream",
     "text": [
      "1 0 0 0 \n",
      "1 1 1 1 0 0 0 0 \n",
      "1 1 0 0 1 "
     ]
    }
   ],
   "source": [
    "def mostra_binario(n):\n",
    "    if n == 0:  # Condição de parada\n",
    "        return\n",
    "\n",
    "    q = n // 2  # Pegando o quociente\n",
    "    mostra_binario(q)  # Usando a recursividade (chamada interna)\n",
    "\n",
    "    r = n % 2\n",
    "    print(r, end=' ')\n",
    "\n",
    "\n",
    "mostra_binario(8)  # Chamada externa - Primeira chamada da função recursiva, que chama de fora da função\n",
    "print()\n",
    "mostra_binario(240)\n",
    "print()\n",
    "mostra_binario(25)"
   ]
  },
  {
   "cell_type": "markdown",
   "metadata": {},
   "source": [
    "### `2.` Escrever uma função recursiva para mostrar o número de dígitos de um número inteiro"
   ]
  },
  {
   "cell_type": "code",
   "execution_count": 8,
   "metadata": {},
   "outputs": [
    {
     "name": "stdout",
     "output_type": "stream",
     "text": [
      "Com loop: 8\n",
      "Com recursividade: 8\n"
     ]
    }
   ],
   "source": [
    "x = 20232023\n",
    "s = str(x)\n",
    "\n",
    "# Fazendo com loop\n",
    "cont = 0\n",
    "for char in s:\n",
    "    cont += 1\n",
    "\n",
    "print(f'Com loop: {cont}')\n",
    "\n",
    "# Função recursiva\n",
    "def conta_recursivo(n, cont=0):\n",
    "    if n < 1:\n",
    "        return cont\n",
    "    \n",
    "    cont += 1\n",
    "    return conta_recursivo(n / 10, cont)\n",
    "    \n",
    "\n",
    "cont2 = conta_recursivo(x)\n",
    "print(f'Com recursividade: {cont2}')\n"
   ]
  },
  {
   "cell_type": "code",
   "execution_count": 9,
   "metadata": {},
   "outputs": [
    {
     "data": {
      "text/plain": [
       "8"
      ]
     },
     "execution_count": 9,
     "metadata": {},
     "output_type": "execute_result"
    }
   ],
   "source": [
    "# Resolução do professor:\n",
    "def nroDigitos(n):\n",
    "    if n == 0:\n",
    "        return 0\n",
    "    else:\n",
    "        return 1 + nroDigitos(n // 10)\n",
    "\n",
    "nroDigitos(x)"
   ]
  },
  {
   "cell_type": "markdown",
   "metadata": {},
   "source": [
    "### `3.` Escrever uma função recursiva para inverter um número inteiro"
   ]
  },
  {
   "cell_type": "code",
   "execution_count": 10,
   "metadata": {},
   "outputs": [
    {
     "name": "stdout",
     "output_type": "stream",
     "text": [
      "6541\n"
     ]
    }
   ],
   "source": [
    "def inverte_num(n, invert=''):\n",
    "    if n < 1:\n",
    "        return invert\n",
    "\n",
    "    string_n = str(int(n))\n",
    "    invert += string_n[-1]\n",
    "    \n",
    "    return inverte_num(n / 10, invert)\n",
    "\n",
    "x = 1456\n",
    "print(inverte_num(x))"
   ]
  },
  {
   "cell_type": "code",
   "execution_count": 11,
   "metadata": {},
   "outputs": [
    {
     "data": {
      "text/plain": [
       "6541"
      ]
     },
     "execution_count": 11,
     "metadata": {},
     "output_type": "execute_result"
    }
   ],
   "source": [
    "# Resolução do professor\n",
    "def inverte(x, nro_digitos_de_x):\n",
    "    if nro_digitos_de_x == 0:\n",
    "        return 0\n",
    "\n",
    "    q = x // 10\n",
    "    r = x % 10\n",
    "    \n",
    "    conta = r * 10**(nro_digitos_de_x - 1)\n",
    "    return conta + inverte(q, nro_digitos_de_x - 1)  \n",
    "\n",
    "inverte(x, len(str(x)))"
   ]
  },
  {
   "cell_type": "markdown",
   "metadata": {},
   "source": [
    "### `4.` Escrever em Python uma função recursiva para retornar a soma dos elementos de um vetor de números inteiros. <br> A função recebe dois parâmetros: Vetor e o tamanho do vetor"
   ]
  },
  {
   "cell_type": "code",
   "execution_count": 12,
   "metadata": {},
   "outputs": [
    {
     "data": {
      "text/plain": [
       "15"
      ]
     },
     "execution_count": 12,
     "metadata": {},
     "output_type": "execute_result"
    }
   ],
   "source": [
    "def soma_vet(vet, tam_vet):\n",
    "    if tam_vet == 0:\n",
    "        return 0\n",
    "    \n",
    "    return vet[tam_vet - 1] + soma_vet(vet, tam_vet - 1)\n",
    "\n",
    "vetor = [5, 3, 4, 1, 2]\n",
    "# vetor = [10, 10, 20, 100, 1]\n",
    "soma_vet(vetor, len(vetor))"
   ]
  },
  {
   "cell_type": "markdown",
   "metadata": {},
   "source": [
    "### `5.` Escrever uma função recursiva para retornar a soma dos elementos **pares** de um vetor de números inteiros"
   ]
  },
  {
   "cell_type": "code",
   "execution_count": 13,
   "metadata": {},
   "outputs": [
    {
     "data": {
      "text/plain": [
       "15"
      ]
     },
     "execution_count": 13,
     "metadata": {},
     "output_type": "execute_result"
    }
   ],
   "source": [
    "def soma_vet_pares(vet, tam_vet):\n",
    "    elemento = vet[tam_vet - 1]\n",
    "\n",
    "    if tam_vet == 0:\n",
    "        return 0\n",
    "    elif elemento % 2 == 0:\n",
    "        return elemento + soma_vet(vet, tam_vet-1)\n",
    "    else:\n",
    "        return soma_vet(vet, tam_vet-1)\n",
    "\n",
    "vetor = [5, 3, 4, 1, 2]\n",
    "# vetor = [10, 10, 20, 100, 1]\n",
    "soma_vet(vetor, len(vetor))"
   ]
  },
  {
   "cell_type": "markdown",
   "metadata": {},
   "source": [
    "### `6.` Escrever uma função recursiva para calcular a multiplicação russa entre dois números inteiros"
   ]
  },
  {
   "cell_type": "markdown",
   "metadata": {},
   "source": [
    "Algoritmo da multiplicação russa entre dois inteiros `A` e `B`:\n",
    "\n",
    "- **Passo 1:** Realizar a divisão inteira de `A` por `2`. O resultado da divisão (quociente) passará a ser o valor de `A`.\n",
    "- **Passo 2:** Multiplicar `B` por `2`. O resultado passará a ser o valor de `B`.\n",
    "- **Passo 3:** Repetir o **Passo 1** e **Passo 2** (sempre anotando os valores de `A` e `B` em pares) até que o resultado de `A` seja `1`.\n",
    "- **Passo 4:** Analisando os pares de valores `A` e `B` obtidos em todos os passos, **somar** os valores de `B` em que o valor `A` correspondente for **ímpar**. O resultado da soma será o resultado de `A x B`\n"
   ]
  },
  {
   "cell_type": "code",
   "execution_count": 14,
   "metadata": {},
   "outputs": [
    {
     "data": {
      "text/plain": [
       "1786"
      ]
     },
     "execution_count": 14,
     "metadata": {},
     "output_type": "execute_result"
    }
   ],
   "source": [
    "def mult_russa(a, b):\n",
    "\n",
    "    if a == 0:\n",
    "        return 0\n",
    "    \n",
    "    elif a % 2 == 1:\n",
    "        return b + mult_russa(a // 2, b*2)\n",
    "    \n",
    "    else:\n",
    "        return mult_russa(a // 2, b*2)\n",
    "\n",
    "\n",
    "mult_russa(47, 38)"
   ]
  },
  {
   "cell_type": "markdown",
   "metadata": {},
   "source": [
    "### `7.` Escrever uma função recursiva em python para retornar a soma dos números positivos de um vetor de números inteiros."
   ]
  },
  {
   "cell_type": "code",
   "execution_count": 15,
   "metadata": {},
   "outputs": [
    {
     "data": {
      "text/plain": [
       "20"
      ]
     },
     "execution_count": 15,
     "metadata": {},
     "output_type": "execute_result"
    }
   ],
   "source": [
    "def soma_positivos(vet, tam_vet):\n",
    "    if tam_vet == 0:\n",
    "        return 0\n",
    "    \n",
    "    elemento = vet[tam_vet-1]\n",
    "\n",
    "    if elemento > 0:\n",
    "        return  elemento + soma_positivos(vet, tam_vet-1)\n",
    "    else:\n",
    "        return soma_positivos(vet, tam_vet-1)\n",
    "\n",
    "vetor = [5, -10, 15]\n",
    "soma_positivos(vetor, len(vetor))"
   ]
  },
  {
   "cell_type": "markdown",
   "metadata": {},
   "source": [
    "### `8.` Escrever uma função recursiva em python para calcular a potência de um número inteiro, lembrando que:\n",
    "\n",
    "$ x^n = \\begin{cases} 1 \\text{, se } n = 0 \\\\\n",
    "x*x^{n-1} \\text{, se } n > 0 \\\\\n",
    "\\dfrac{x^{n+1}}{x} \\text{, se } n < 0 \\end{cases} $"
   ]
  },
  {
   "cell_type": "code",
   "execution_count": 30,
   "metadata": {},
   "outputs": [
    {
     "data": {
      "text/plain": [
       "32"
      ]
     },
     "execution_count": 30,
     "metadata": {},
     "output_type": "execute_result"
    }
   ],
   "source": [
    "def potencia(x, n):\n",
    "    if n == 0:\n",
    "        return 1\n",
    "    \n",
    "    if n > 0:\n",
    "        return x * potencia(x, n-1)\n",
    "    else:\n",
    "        return potencia(x, n+1) / x\n",
    "\n",
    "potencia(2, 5)\n",
    "# potencia(3, -3)  # 1/27\n",
    "# potencia(50, 0)"
   ]
  },
  {
   "cell_type": "markdown",
   "metadata": {},
   "source": [
    "### `9.` Escrever uma função recursiva em python para retornar a soma dos dígitos de um número inteiro.\n"
   ]
  },
  {
   "cell_type": "code",
   "execution_count": 17,
   "metadata": {},
   "outputs": [
    {
     "data": {
      "text/plain": [
       "15"
      ]
     },
     "execution_count": 17,
     "metadata": {},
     "output_type": "execute_result"
    }
   ],
   "source": [
    "def soma_digitos(num):\n",
    "    if num == 0:\n",
    "        return 0\n",
    "\n",
    "    q = num // 10\n",
    "    r = num % 10\n",
    "\n",
    "    return r + soma_digitos(q)\n",
    "\n",
    "soma_digitos(15342)"
   ]
  },
  {
   "cell_type": "code",
   "execution_count": 18,
   "metadata": {},
   "outputs": [
    {
     "data": {
      "text/plain": [
       "15"
      ]
     },
     "execution_count": 18,
     "metadata": {},
     "output_type": "execute_result"
    }
   ],
   "source": [
    "# Resolução do professor\n",
    "def somaDigitos(n, x):\n",
    "    if n == 0:\n",
    "        return 0\n",
    "    else:\n",
    "        return n // (10**(x-1)) + somaDigitos(n % (10**(x-1)), x-1)\n",
    "    \n",
    "somaDigitos(15342, len(str(15342)))"
   ]
  },
  {
   "cell_type": "markdown",
   "metadata": {},
   "source": [
    "### `10.` Escrever uma função em python para retornar o primeiro digito de um número inteiro, usando a função recursiva feita no exercício `2`, que conta a quantidade de dígitos de um número inteiro"
   ]
  },
  {
   "cell_type": "code",
   "execution_count": 19,
   "metadata": {},
   "outputs": [
    {
     "data": {
      "text/plain": [
       "5"
      ]
     },
     "execution_count": 19,
     "metadata": {},
     "output_type": "execute_result"
    }
   ],
   "source": [
    "def primeiro_digito(n):\n",
    "    x = nroDigitos(n)\n",
    "    pri = n // 10**(x-1)\n",
    "    return pri\n",
    "\n",
    "primeiro_digito(580)"
   ]
  },
  {
   "cell_type": "markdown",
   "metadata": {},
   "source": [
    "### `11.` Escrever uma função recursiva em python para calcular o resto da divisão inteira de dois números inteiros."
   ]
  },
  {
   "cell_type": "code",
   "execution_count": 24,
   "metadata": {},
   "outputs": [
    {
     "data": {
      "text/plain": [
       "2"
      ]
     },
     "execution_count": 24,
     "metadata": {},
     "output_type": "execute_result"
    }
   ],
   "source": [
    "def resto(x, n):\n",
    "    if x < n:\n",
    "        return x\n",
    "\n",
    "    return resto(x - n, n)\n",
    "\n",
    "resto(27, 5)\n"
   ]
  },
  {
   "cell_type": "code",
   "execution_count": 25,
   "metadata": {},
   "outputs": [
    {
     "data": {
      "text/plain": [
       "2"
      ]
     },
     "execution_count": 25,
     "metadata": {},
     "output_type": "execute_result"
    }
   ],
   "source": [
    "# Resolução do professor\n",
    "def calc_resto(x, y):\n",
    "    if x > y:\n",
    "        return resto(x-y, y)\n",
    "    elif x < y:\n",
    "        return x\n",
    "    else:\n",
    "        return 0\n",
    "\n",
    "calc_resto(27, 5)"
   ]
  },
  {
   "cell_type": "markdown",
   "metadata": {},
   "source": [
    "### `12.` Escrever uma função em ptyhon para retornar a média aritmética dos dígitos de um número inteiro"
   ]
  },
  {
   "cell_type": "code",
   "execution_count": 22,
   "metadata": {},
   "outputs": [
    {
     "data": {
      "text/plain": [
       "4.0"
      ]
     },
     "execution_count": 22,
     "metadata": {},
     "output_type": "execute_result"
    }
   ],
   "source": [
    "# Resolveremos esse exercício usando as funções recursivas feitas nos ex. 2 e 9 \n",
    "def media_aritmetica(n):\n",
    "    digits = conta_recursivo(n)\n",
    "\n",
    "    media = soma_digitos(n) / digits\n",
    "\n",
    "    return media\n",
    "\n",
    "media_aritmetica(2554)"
   ]
  }
 ],
 "metadata": {
  "kernelspec": {
   "display_name": "Python 3",
   "language": "python",
   "name": "python3"
  },
  "language_info": {
   "codemirror_mode": {
    "name": "ipython",
    "version": 3
   },
   "file_extension": ".py",
   "mimetype": "text/x-python",
   "name": "python",
   "nbconvert_exporter": "python",
   "pygments_lexer": "ipython3",
   "version": "3.11.4"
  },
  "orig_nbformat": 4
 },
 "nbformat": 4,
 "nbformat_minor": 2
}
