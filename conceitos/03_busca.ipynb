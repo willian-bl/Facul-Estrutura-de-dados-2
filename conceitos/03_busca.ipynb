{
 "cells": [
  {
   "cell_type": "markdown",
   "metadata": {},
   "source": [
    "> # Busca\n",
    "---"
   ]
  },
  {
   "cell_type": "markdown",
   "metadata": {},
   "source": [
    "**Busca**: Durante as aulas serão apresentados algoritmos para realizar a busca ou pesquisa de elementos em um conjunto de dados. O conjunto pode estar ou não ordenado"
   ]
  },
  {
   "cell_type": "markdown",
   "metadata": {},
   "source": []
  }
 ],
 "metadata": {
  "language_info": {
   "name": "python"
  },
  "orig_nbformat": 4
 },
 "nbformat": 4,
 "nbformat_minor": 2
}
