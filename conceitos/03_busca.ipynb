{
 "cells": [
  {
   "cell_type": "markdown",
   "metadata": {},
   "source": [
    "> # Pesquisa / Busca\n",
    "---"
   ]
  },
  {
   "cell_type": "markdown",
   "metadata": {},
   "source": [
    "**Busca**: Durante as aulas serão apresentados algoritmos para realizar a busca ou pesquisa de elementos em um conjunto de dados. O conjunto pode estar ou não ordenado"
   ]
  },
  {
   "cell_type": "markdown",
   "metadata": {},
   "source": [
    "O que é busca?\n",
    "- Percorrer um conjunto de valores até encontrar o valor procurado (ou não)\n",
    "    - Se encontrou, temos um sucesso\n",
    "    - Se não encontrou, insucesso"
   ]
  },
  {
   "cell_type": "markdown",
   "metadata": {},
   "source": [
    "A busca pode ser feita em um conjunto ordenado ou não ordenado\n",
    "Estudaremos 2 algoritmos:\n",
    "- Busca sequencial (tanto para conjunto ordenado quanto para não ordenado)\n",
    "- Busca binária (apenas para conjunto ordenado)"
   ]
  },
  {
   "cell_type": "markdown",
   "metadata": {},
   "source": [
    "## Busca sequencial"
   ]
  },
  {
   "cell_type": "markdown",
   "metadata": {},
   "source": [
    "Algoritmo:\n",
    "- Testa se o valor que estou procurando é igual ao primeiro\n",
    "    - Se for, retorna a posição\n",
    "    - Se não for, vai para o próximo valor\n",
    "- Continua procurando até o último elemento. Se o valor não for igual ao último elemento, então esse elemento não está no vetor"
   ]
  },
  {
   "cell_type": "code",
   "execution_count": 3,
   "metadata": {},
   "outputs": [
    {
     "data": {
      "text/plain": [
       "3"
      ]
     },
     "execution_count": 3,
     "metadata": {},
     "output_type": "execute_result"
    }
   ],
   "source": [
    "def busca_sequencial(vet, x):\n",
    "    for i in range(len(vet)):\n",
    "        if x == vet[i]:\n",
    "            return i\n",
    "    return -1\n",
    "\n",
    "vetor = [12, 43, 27, 5, 38, 15]\n",
    "busca_sequencial(vetor, 5)"
   ]
  },
  {
   "cell_type": "markdown",
   "metadata": {},
   "source": [
    "Alterar o algoritmo da busca sequencial para realizar a busca em um vetor ordenado para melhorar o desempenho"
   ]
  },
  {
   "cell_type": "code",
   "execution_count": 11,
   "metadata": {},
   "outputs": [
    {
     "name": "stdout",
     "output_type": "stream",
     "text": [
      "2\n",
      "-1\n",
      "-1\n"
     ]
    }
   ],
   "source": [
    "def sequencial_ordenado(vet_ordenado, x):\n",
    "    for i in range(len(vet_ordenado)):\n",
    "        if vet_ordenado[i] == x:\n",
    "            return i\n",
    "        if vet_ordenado[i] > x:\n",
    "            return -1\n",
    "        \n",
    "    return -1  # Caso, mesmo tendo o outro return -1, ele procure na lista e não ache\n",
    "\n",
    "vetor = [10, 15, 22, 37, 48, 59]\n",
    "print(sequencial_ordenado(vetor, 22))\n",
    "print(sequencial_ordenado(vetor, 25))\n",
    "print(sequencial_ordenado(vetor, 70))"
   ]
  },
  {
   "cell_type": "markdown",
   "metadata": {},
   "source": [
    "Escrever um algoritmo de busca para encontrar um elemento no vetor. Se não encontrar, insere o elemento no final e retorna a sua posição"
   ]
  },
  {
   "cell_type": "code",
   "execution_count": 15,
   "metadata": {},
   "outputs": [
    {
     "name": "stdout",
     "output_type": "stream",
     "text": [
      "4\n",
      "[12, 43, 27, 5, 38, 15]\n",
      "6\n",
      "[12, 43, 27, 5, 38, 15, 29]\n",
      "7\n",
      "[12, 43, 27, 5, 38, 15, 29, 50]\n"
     ]
    }
   ],
   "source": [
    "# Como insere no fim caso não ache, então isso já nos diz que o vetor não precisa de ser, necessariamente, ordenado. Logo, só podemos usar o código da busca sequencial\n",
    "\n",
    "def sequencial2(vet, x):\n",
    "    for i in range(len(vet)):\n",
    "        if vet[i] == x:\n",
    "            return i\n",
    "        \n",
    "    vet.append(x)\n",
    "    return i + 1\n",
    "\n",
    "vetor = [12, 43, 27, 5, 38, 15]\n",
    "print(sequencial2(vetor, 38))\n",
    "print(vetor)\n",
    "print(sequencial2(vetor, 29))\n",
    "print(vetor)\n",
    "print(sequencial2(vetor, 50))\n",
    "print(vetor)"
   ]
  },
  {
   "cell_type": "markdown",
   "metadata": {},
   "source": [
    "Escrever uma função de busca para retornar um vetor com todas as posições que encontrar o elemento. O vetor passado pode estar tanto ordenado quanto desordenado"
   ]
  },
  {
   "cell_type": "code",
   "execution_count": 17,
   "metadata": {},
   "outputs": [
    {
     "name": "stdout",
     "output_type": "stream",
     "text": [
      "[2, 7]\n",
      "[1, 3, 8]\n",
      "[5]\n",
      "[]\n"
     ]
    }
   ],
   "source": [
    "def todas_posicoes(vet, x):\n",
    "    result = []\n",
    "    for i in range(len(vet)):\n",
    "        if vet[i] == x:\n",
    "            result.append(i)\n",
    "    \n",
    "    return result\n",
    "\n",
    "vetor = [10, 5, 8, 5, 9, 6, 7, 8, 5, 0]\n",
    "print(todas_posicoes(vetor, 8))\n",
    "print(todas_posicoes(vetor, 5))\n",
    "print(todas_posicoes(vetor, 6))\n",
    "print(todas_posicoes(vetor, 11))"
   ]
  },
  {
   "cell_type": "code",
   "execution_count": null,
   "metadata": {},
   "outputs": [],
   "source": []
  }
 ],
 "metadata": {
  "kernelspec": {
   "display_name": "Python 3",
   "language": "python",
   "name": "python3"
  },
  "language_info": {
   "codemirror_mode": {
    "name": "ipython",
    "version": 3
   },
   "file_extension": ".py",
   "mimetype": "text/x-python",
   "name": "python",
   "nbconvert_exporter": "python",
   "pygments_lexer": "ipython3",
   "version": "3.11.3"
  },
  "orig_nbformat": 4
 },
 "nbformat": 4,
 "nbformat_minor": 2
}
