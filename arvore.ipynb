{
 "cells": [
  {
   "cell_type": "markdown",
   "metadata": {},
   "source": [
    "> # Árvore\n",
    "---"
   ]
  },
  {
   "cell_type": "markdown",
   "metadata": {},
   "source": [
    "## Teoria e anotações"
   ]
  },
  {
   "cell_type": "markdown",
   "metadata": {},
   "source": [
    "### Introdução"
   ]
  },
  {
   "cell_type": "markdown",
   "metadata": {},
   "source": [
    "**Árvore**: Estrutura hierárquica\n",
    "- Ex: organograma de uma empresa\n",
    "- A árvore mais simples é a binária, árvore onde cada elemento possui, no máximo, 2 filhos. Porém, também temos a árvore multi-vias ou n-árias\n",
    "\n",
    "Durante as aulas, veremos: \n",
    "- Balanceamento de árvores\n",
    "- Inserção e exclusão de elementos\n",
    "- Percorrer árvore\n",
    "    - Pré-ordem\n",
    "    - Em ordem\n",
    "    - Pós ordem\n",
    "- Transformar uma árvore em arquivos Python"
   ]
  },
  {
   "cell_type": "markdown",
   "metadata": {},
   "source": [
    "### Anotações do Material teórico"
   ]
  },
  {
   "cell_type": "markdown",
   "metadata": {},
   "source": [
    "- Árvore é uma estrutura recursiva\n",
    "- Os elementos de uma árvore são chamados nós\n",
    "- Um nó sem filhos chama-se \"nó folha\" ou \"nó terminal\"\n",
    "- Ramo é o segmento (linha) que une 2 nós\n",
    "\n",
    "- Grau de um nó: quantidade de filhos o nó tem\n",
    "    - Grau da árvore: maior grau de um nó da árvore\n",
    "- Nível: quantas ligações até chegar no nó raiz\n",
    "    - Raiz é nível 0\n",
    "- Altura: maior nível que a árvore possui"
   ]
  },
  {
   "cell_type": "markdown",
   "metadata": {},
   "source": [
    "#### Árvore binária\n",
    "> O maior grau do nó é 2"
   ]
  },
  {
   "cell_type": "markdown",
   "metadata": {},
   "source": [
    "#### Subdivisões:\n",
    "\n",
    "- Árvore estritamente binária: Os nós que não são folhas possuem, obrigatoriamente, 2 filhos (só temos nós com 0 ou 2 filhos, não temos nós somente com 1 filho)\n",
    "\n",
    "- Árvore binária completa: Todas as folhas estão no mesmo nível"
   ]
  },
  {
   "cell_type": "markdown",
   "metadata": {},
   "source": [
    "#### Percurso:\n",
    "\n",
    "Formas de percorrer a árvore (não é simples como a lista, onde vamos de um elemento para o outro em \"linha reta\")\n",
    "\n",
    "- No pré-ordem a raiz é a primeira a ser mostrada\n",
    "- Em ordem\n",
    "- No pós-ordem a raiz é a última\n",
    "\n",
    "*Visitar o nó* é mostrá-lo ou fazer o que temos que fazer com ele\n",
    "\n",
    "Técnica para montar a sequência de um percurso: <br/>\n",
    "Fazemos o contorno da árvore e vamos \"tocando\" os nós (seria o equivalente a visitá-los). Para cada tipo de percurso tocamos os nós de um lado:\n",
    "- \"tocando pela esquerda\": pré-ordem\n",
    "- \"tocando por baixo\": em ordem\n",
    "- \"tocando pela direita\": pós-ordem    "
   ]
  },
  {
   "cell_type": "markdown",
   "metadata": {},
   "source": [
    "#### Árvore binária de busca\n",
    "- É um tipo de árvore binária\n",
    "- É uma estrutura ordenada:\n",
    "    - Elementos menores que a raiz são inseridos à esquerda\n",
    "    - Elementos maiores que a raiz são inseridos à direita\n",
    "- Percurso **em ordem** em uma árvore binária de busca resulta em valores em ordem crescente"
   ]
  },
  {
   "cell_type": "markdown",
   "metadata": {},
   "source": [
    "#### Inserir e retirar elementos\n",
    "- A inserção e retirada de elementos deve **seguir as regras** da árvore binária e, se for uma árvore binária de busca, as estrições desta última\n",
    "- A **retirada** de elementos de uma árvore binária de busca, particularmente, não é uma tarefa simples, já que para que as características da árvore sejam mantidas, devemos \"movimentar\" os nós, de forma que o nó retirado deve ser substituído pelo seu **antecessor em ordem** ou **sucessor em ordem** "
   ]
  },
  {
   "cell_type": "markdown",
   "metadata": {},
   "source": [
    "#### Árvore balanceada (AVL)\n",
    "- Uma árvore balanceada é mais rápida e otimizada\n",
    "- É uma árvore binária em que a altura de suas subárvores esquerda e direita nunca difere em mais de 1\n",
    "- Se estiver balanceada tem fator de balanceamento 1, -1 ou 0\n",
    "- Rotações\n",
    "    - Olhar o nó desbalanceado (primeira letra) e o filho direto dele (segunda letra)\n",
    "    - EE nó inserido na subárvore esquerda como filho esquerdo\n",
    "    - Se é EE fazemos a rotação para a direita: DD e vice versa\n",
    "- Quando tiver o desbalanceamento de mais de um nó, balancear somente aquuele que está mais próximo do elemento inserido\n",
    "\n",
    "Na prova A1: Balancear árvores! de uns 20 números"
   ]
  },
  {
   "cell_type": "markdown",
   "metadata": {},
   "source": [
    "## Exercícios"
   ]
  },
  {
   "cell_type": "markdown",
   "metadata": {},
   "source": [
    "### Árvore binária de busca"
   ]
  },
  {
   "cell_type": "markdown",
   "metadata": {},
   "source": [
    "Trabalharemos com a árvore binária de busca:\n",
    "- Nós com grau 2\n",
    "- Elementos maiores que o nó à esquerda e menores que o nó à direita\n",
    "- O percurso em ordem continua mostrando em ordem crescente seus elementos\n",
    "- Fazemos o balanceamento rotacionando a árvore\n",
    "    - Rotação à direita: no.dir = no e no = no.esq "
   ]
  },
  {
   "cell_type": "code",
   "execution_count": 1,
   "metadata": {},
   "outputs": [],
   "source": [
    "# NoArvore é o tipo do objeto que será inserido na nossa árvore\n",
    "\n",
    "class NoArvore:\n",
    "    def __init__(self,info):\n",
    "        self.info=info  # Nossa árvore será uma árvore de números inteiros, então a única informação que ela irá guardar será números inteiros\n",
    "        self.esq=None\n",
    "        self.dir=None\n",
    "\n",
    "    def getInfo(self):  # Apenas para fins didáticos faremos o get e set, já que no python os atributos são públicos por padrão.\n",
    "        return self.info\n",
    "\n",
    "    def getEsq(self):\n",
    "        return self.esq\n",
    "\n",
    "    def setEsq(self,esq):\n",
    "        self.esq=esq\n",
    "\n",
    "    def getDir(self):\n",
    "        return self.dir\n",
    "\n",
    "    def setDir(self,dir):\n",
    "        self.dir=dir\n"
   ]
  },
  {
   "cell_type": "code",
   "execution_count": 2,
   "metadata": {},
   "outputs": [],
   "source": [
    "class Arvore:\n",
    "\n",
    "    def __init__(self):\n",
    "        self.raiz = None  # Quando criamos uma árvore, inicialmente ela não tem nenhum nó, nem raiz\n",
    "\n",
    "    def montaArvore(self, x):\n",
    "        \"\"\"Insere um nó com o valor `x` na árvore\"\"\"\n",
    "\n",
    "        if self.raiz == None: # Se não tiver raiz, é o primeiro nó da árvore. Ele é inserido e se transforma na raiz\n",
    "            no = NoArvore(x)\n",
    "            self.raiz = no\n",
    "            return\n",
    "        \n",
    "        q=None\n",
    "        p=self.raiz\n",
    "        while p and p.getInfo() != x: # while é para encontrar o elemento pai daquele que queremos inserir (x)\n",
    "            q = p  # q aponta para o pai do nó p\n",
    "            # p vai andar de acordo com o valor de x\n",
    "            if x < p.getInfo():\n",
    "                p = p.getEsq() # Se é menor que o nó atual, x deve ser inserido à esquerda\n",
    "            else:\n",
    "                p = p.getDir() # Se é maior que o nó atual, x deve ser inserido à direita\n",
    "\n",
    "        if p:  # Se o p sair do while e tiver um elemento, então ele é igual a esse elemento!\n",
    "            print(f'Informação já cadastrada')\n",
    "            return\n",
    "        \n",
    "        # Se chegar aqui, o p está vazio e o nó com o valor x deve ser inserido como filho do nó q.\n",
    "        p = NoArvore(x)\n",
    "        if x < q.getInfo():\n",
    "            q.setEsq(p)\n",
    "        else:\n",
    "            q.setDir(p)\n",
    "\n",
    "\n",
    "    def preOrdem(self, p):  # Passamos como parâmetro o nó que desejamos iniciar a operação. Esse será o padrão dos métodos que faremos. Se quisermos aplicar o método na árvore inteira, simplesmente passamos a raiz da árvore \n",
    "        \"\"\"Mostra os elementos na pré-ordem\"\"\"\n",
    "\n",
    "        # As funções/métodos para percorrer a árvore são recursivas\n",
    "        if p:  # Enquanto existir um nó p, continua visitando os nós/chamado a função/método\n",
    "            print(f'Nó visitado em preOrdem: {p.getInfo()}')\n",
    "            self.preOrdem(p.getEsq())\n",
    "            self.preOrdem(p.getDir())\n",
    "\n",
    "\n",
    "    def emOrdem(self, p):\n",
    "        \"\"\"Mostra os elementos em ordem\"\"\"\n",
    "        # Como é uma árvore binária de busca, o percurso em ordem mostra os elementos em ordem crescente\n",
    "\n",
    "        if p:\n",
    "            self.emOrdem(p.getEsq())\n",
    "            print(f'Nó visitado em emOrdem: {p.getInfo()}')\n",
    "            self.emOrdem(p.getDir())\n",
    "\n",
    "\n",
    "    def posOrdem(self, p):\n",
    "        \"\"\"Mostra os elementos na pós-ordem\"\"\"\n",
    "\n",
    "        if p:\n",
    "            self.posOrdem(p.getEsq())\n",
    "            self.posOrdem(p.getDir())\n",
    "            print(f'Nó visitado em posOrdem: {p.getInfo()}')     \n",
    "\n",
    "        # Perceba que nos três percursos o que muda é a posição que o nó é visitado\n",
    "        # No pré-ordem, o elemento é visitado primeiro, depois vamos para a esq e depois para a direita\n",
    "        # No em ordem primeiro vamos para a esquerda, visitamos e depois direita\n",
    "        # E, por fim, no pós ordem, vamos para a esquerda, direita e por último visitamos o nó\n",
    "\n",
    "\n",
    "    # Exercício 1 - Fazer um método para contar quantos nós tem a árvore\n",
    "    def contaNo_alternativo(self, no):\n",
    "        # Minha resolução, usando contador\n",
    "\n",
    "        if not no:  # Se não tiver nem raiz, a árvore ou galho está vazio(a)\n",
    "            return 0  \n",
    "        \n",
    "        cont = 0\n",
    "\n",
    "        esquerda = no.getEsq()\n",
    "        if esquerda:\n",
    "            cont += self.contaNo_alternativo(esquerda) \n",
    "        \n",
    "        direita = no.getDir()\n",
    "        if direita:\n",
    "            cont += self.contaNo_alternativo(direita)\n",
    "\n",
    "        return 1 + cont\n",
    "    \n",
    "\n",
    "    # Resolução do professor do exercício 1\n",
    "    def contaNos(self, p):\n",
    "        \"\"\"Conta quantos nós tem a árvore ou galho a partir do elemento passado\"\"\"\n",
    "\n",
    "        # A contagem dos nós é feita da seguinte forma: Temos 1 nó + a quantidade de seus filhos à esquerda + a quantidade de seus filhos à direita\n",
    "        if not p:\n",
    "            return 0\n",
    "        else:\n",
    "            return (\n",
    "                        1 +\n",
    "                        self.contaNos(p.getEsq()) +\n",
    "                        self.contaNos(p.getDir())\n",
    "                    )\n",
    "    \n",
    "\n",
    "    # Exercício 2 - Fazer um método para contar a quantidade de nós pares\n",
    "    def contaNoPar(self, p):\n",
    "        \"\"\"Método para contar quantos nós possuem números pares\"\"\"\n",
    "\n",
    "        if not p:\n",
    "            return 0\n",
    "        \n",
    "        if p.getInfo() % 2 == 0:\n",
    "            return 1 + self.contaNoPar(p.getEsq()) + self.contaNoPar(p.getDir())\n",
    "        else:\n",
    "            return 0 + self.contaNoPar(p.getEsq()) + self.contaNoPar(p.getDir())\n",
    "        \n",
    "\n",
    "    # Exercício 3 - Fazer uma função para contar a quantidade de nós terminais (folhas)\n",
    "    def contaNosFolhas(self, p):\n",
    "        \"\"\"Mostra a quantidade de nós folhas\"\"\"\n",
    "        if not p:\n",
    "            return 0\n",
    "        \n",
    "        if not p.getEsq() and not p.getDir(): # É só usar a definição: Se não tem nó à esquerda nem à direita, este é um nó folha, então contamos ele\n",
    "            return 1  # E se é um nó folha, não precisamos continuar \n",
    "        else:  # Senão, não é um nó folha, então não contamos, apenas continuamos chamando a função para os nós à esquerda e à direita do atual\n",
    "            return 0 + self.contaNosFolhas(p.getEsq()) + self.contaNosFolhas(p.getDir())\n",
    "\n",
    "\n",
    "    # Exercício 4 - Fazer uma função para MOSTRAR os nós terminais (folhas)\n",
    "    def mostraNosFolhas(self, p):\n",
    "        \"\"\"Mostra quais são os nós folhas da árvore\"\"\"\n",
    "\n",
    "        if p == None:  # Árvore/galho vazio\n",
    "            return\n",
    "\n",
    "        if not p.getEsq() and not p.getDir():  # Se não tem nó na esquerda nem na direita, é um nó terminal\n",
    "            print(p.getInfo())\n",
    "            return\n",
    "        else:  # Se tem nó de algum lado, continua atá achar um nó terminal\n",
    "            self.mostraNosFolhas(p.getEsq())\n",
    "            self.mostraNosFolhas(p.getDir())\n",
    "    \n",
    "\n",
    "    # Exercício 5 - Escrever uma função para retornar o MENOR elemento de uma árvore binária de busca\n",
    "    def retornaMenor(self, p, menor=None):\n",
    "        \"\"\"Retorna o menor elemento da árvore\"\"\"\n",
    "\n",
    "        # Percorrendo a árvore usando a técnica em ordem, o primeiro nó visitado será o menor elemento\n",
    "        # Lembrar que o percurso em ordem trás os elementos em ordem crescente (no nosso caso onde os menores ficam à esquerda\n",
    "        # e os maiores à direita)\n",
    "\n",
    "        # if p:\n",
    "        #     self.retornaMenor(p.getEsq())\n",
    "        #     return p.getInfo()  # Deu errado porque ao sair das instâncias abertas, o último retorno sempre será o do nó raiz\n",
    "        #     self.retornaMenor(p.getDir())\n",
    "\n",
    "        if not p:\n",
    "            return\n",
    "        \n",
    "        if not p.getEsq():  # O menor nó será aquele mais à esquerda, que não possui nenhum filho. Não precisamos ir para a direita,\n",
    "                            # já que à direita o valor sempre será maior que outro.\n",
    "            return p.getInfo()\n",
    "        else:\n",
    "            return self.retornaMenor(p.getEsq())\n",
    "\n",
    "\n",
    "    # Exercício 6 - Escrever uma função para mostrar os nós junto com seu nível\n",
    "    def mostraNivel(self, p, nivel=0):\n",
    "        \"\"\"Mostra os elementos da árvore juntamente com seu nível\"\"\"\n",
    "\n",
    "        if p:\n",
    "            print(f'Nível: {nivel} | Nó: {p.getInfo()}')  # VISITA O NÓ - Alterando esse print de lugar, mudamos o tipo do percurso\n",
    "            \n",
    "            prox_nivel = nivel + 1\n",
    "            self.mostraNivel(p.getEsq(), prox_nivel)\n",
    "            self.mostraNivel(p.getDir(), prox_nivel)\n",
    "    \n",
    "\n",
    "    # Resolução do professor do exercício 6\n",
    "    def mostraNivel2(self, p, nivel):\n",
    "        if p:\n",
    "            print(f'valor: {p.getInfo()}  nivel: {nivel}')\n",
    "            self.mostraNivel2(p.getEsq(),nivel+1)\n",
    "            self.mostraNivel2(p.getDir(),nivel+1)\n",
    "    \n",
    "    \n",
    "    # Código para a remoção de nós\n",
    "    def removeNo(self,x):\n",
    "        \"\"\"Remove o nó que possui o valor x como info\"\"\"\n",
    "        \n",
    "        # no_remover - contem a referencia para o no a ser retirado\n",
    "        # pai_remover - pai do nó que será retirado\n",
    "        # substituto - no que vai substituir no_remover\n",
    "        # pai_substituto - pai do no substituto\n",
    "\n",
    "        # Buscando qual nó tem o valor x e qual o pai desse nó\n",
    "        no_remover = self.raiz\n",
    "        pai_remover = None\n",
    "\n",
    "        while no_remover and no_remover.getInfo() != x:\n",
    "            pai_remover = no_remover\n",
    "            if x < no_remover.getInfo():\n",
    "                no_remover = no_remover.getEsq()\n",
    "            else:\n",
    "                no_remover = no_remover.getDir()\n",
    "\n",
    "        if not no_remover:              # Se procurar o valor e não achar, o no_remover sairá como None\n",
    "            print(f'Nó com o valor {x} não cadastrado!')    # o que significa que o elemento procurado não está na árvore\n",
    "            return\n",
    "        # Terminando essa parte, posicionamos os ponteiros pai_remover e no_remover corretamente\n",
    "\n",
    "        # posicionar o ponteiro substituto no nó que ira substituir no_remover\n",
    "        if not no_remover.getEsq():  # Se não tem filho à esquerda, quem irá substituir será seu filho à direita, pois garantimos que esse é seu sucessor em ordem\n",
    "            substituto=no_remover.getDir()  # Se for nó terminal e não tiver nenhum filho, também cai aqui, mas substituto será None\n",
    "\n",
    "        elif not no_remover.getDir():  # Agora, se não tiver filho à direita, quem irá substituir será seu filho da esquerda, que é seu antecessor em ordem\n",
    "            substituto=no_remover.getEsq()\n",
    "        \n",
    "        else:   \n",
    "            # Por fim, se chegou aqui...\n",
    "            # no_remover possui 2 filhos/subárvores. Substituiremos o nó a ser removido pelo seu SUCESSOR EM ORDEM \n",
    "            # Então, posicionamos o ponteiro \"substituto\" no sucessor emordem do no_remover (isso significa, no nó mais à esquerda da subárvore direita - IMPORTANTE) e\n",
    "            # e o ponteiro \"pai_substituto\" no paido nó substituto\n",
    "            \n",
    "            pai_substituto = no_remover  # Iniciamos supondo que a subárvore seja formada apenas por um elemento: Um filho direto do nó a ser removido\n",
    "            substituto = no_remover.getDir()    # DEVE EXISTIR nó à direita e à esquerda por causa dos testes feitos anteriormente\n",
    "                                                # E como queremos o SUCESSOR, vamos para a direita \n",
    "           \n",
    "            while substituto.getEsq():  # Enquanto existirem nós à esquerda anda com os ponteiros substituto e pai_substituto até posicioná-los na posição correta\n",
    "                pai_substituto = substituto\n",
    "                substituto = substituto.getEsq()\n",
    "            # Nesse ponto substituto esta no sucessor em ordem de no_remover\n",
    "\n",
    "            if pai_substituto != no_remover: \n",
    "                # no_remover nao é pai de substituto, ou seja, substituto não é filho direto de no_remover e, sendo assim substituto está, obrigatoriamente, \n",
    "                # à esquerda de pai_substituto (ver linhas anteriores de código)\n",
    "                pai_substituto.setEsq(substituto.getDir())  # Se substituto tiver galho à direita, devemos mover esse galho para o seu pai\n",
    "                                                            # Movemos para a esquerda do pai pois esses são valores menores que o pai_substituto.\n",
    "                                                            # Eles eram maiores que substituto (pois estão à sua direita) mas são menores que pai_substituto, \n",
    "                                                            # Porque senão estariam à direita de pai_substituto\n",
    "                \n",
    "                # Com a linha de código anterior, pai_substituto não aponta mais para o nó substituto, ou seja, tiramos ele da sua posição original\n",
    "\n",
    "                # As próximas duas linhas de código ajustam as subárvores do substituto, movendo a subárvore esquerda\n",
    "                # e a subárvore direita do nó que estamos removendo para a esquerda/direita do substituto\n",
    "                substituto.setDir(no_remover.getDir())\n",
    "            substituto.setEsq(no_remover.getEsq())  # Linha de fora do if pois, caso o substituto seja filho direto do nó a ser removido,\n",
    "                                                    # ele estará a direita desse nó e a única coisa que teremos que fazer será mover a subárvore esquerda\n",
    "                                                    # do no_remover para a esquerda do substituto e a subárvore direita do substituto já estará certa\n",
    "                                                    # (ou não possui subárvore direita ou possui apenas valores maiores que substituto)\n",
    "\n",
    "        # Agora, devemos fazer com que o pai_remover aponte para o nó substituto, excluindo a referência do no_remover\n",
    "        if not pai_remover:         # no_remover é a raiz da arvore\n",
    "            self.raiz = substituto  # Não precisaremos mexer no nó pai, pois o nó que removemos é a raiz da árvore.\n",
    "                                    # Nesse caso, a remoção já está completa, bastando apenas trocar a referência da raiz da árvore para o nó substituto\n",
    "        else:\n",
    "            if no_remover == pai_remover.getEsq():  # Se o nó estiver à esquerda do pai\n",
    "                pai_remover.setEsq(substituto)\n",
    "            else:  # Se estiver a direita\n",
    "                pai_remover.setDir(substituto)\n",
    "\n",
    "        no_remover = None   # Limpando a referência para o objeto no_remover, que removemos da árvore\n",
    "                            # Assim ele poderá ser apagado pelo coletor de lixo\n",
    "\n",
    "\n",
    "    # Exercício 7 - Escrever uma função recursiva em python para calcular e mostrar a altura de uma árvore binária\n",
    "    def calculaAltura(self, p, printar=False):\n",
    "        \"\"\"Retorna e mostra a altura de uma árvore de busca binária\"\"\"\n",
    "        if p:\n",
    "            e = self.calculaAltura(p.getEsq(), printar=False)\n",
    "            d = self.calculaAltura(p.getDir(), printar=False)\n",
    "\n",
    "            if e > d :\n",
    "                if printar:\n",
    "                    print(1 + e)\n",
    "                return 1 + e\n",
    "            else:\n",
    "                if printar:\n",
    "                    print(1 + d)\n",
    "                return 1 + d\n",
    "        \n",
    "        else:\n",
    "            if printar:\n",
    "                print(0)\n",
    "            return 0\n",
    "\n",
    "    # Exercício 8 - Escrever uma função recursiva em python para transformar uma árvore binária em sua imagem especular.\n",
    "    def inverteArvore(self, p):\n",
    "        \"\"\"\n",
    "        Inverte uma árore, transformando-a em sua imagem especular (como se ela estivesse em frente a um espelho)\n",
    "        Os nós que estão à esquerda passam para a direita e vice-versa\n",
    "        \"\"\"\n",
    "        if p:\n",
    "            self.inverteArvore(p.getEsq())\n",
    "            self.inverteArvore(p.getDir())\n",
    "\n",
    "            tempNode = p.getEsq()\n",
    "            p.setEsq(p.getDir())\n",
    "            p.setDir(tempNode)        \n",
    "            \n",
    "\n",
    "arv=Arvore()\n",
    "arv.montaArvore(80)\n",
    "arv.montaArvore(40)\n",
    "arv.montaArvore(45)\n",
    "arv.montaArvore(90)\n",
    "arv.montaArvore(120)\n",
    "arv.montaArvore(88)\n",
    "arv.montaArvore(82)\n",
    "arv.montaArvore(95)\n",
    "arv.montaArvore(84)\n",
    "arv.montaArvore(42)\n",
    "arv.montaArvore(43)\n",
    "arv.montaArvore(92)\n",
    "arv.montaArvore(83)"
   ]
  },
  {
   "cell_type": "code",
   "execution_count": 3,
   "metadata": {},
   "outputs": [
    {
     "name": "stdout",
     "output_type": "stream",
     "text": [
      "Elementos da árvore percorridos Em ordem: \n",
      "Nó visitado em emOrdem: 40\n",
      "Nó visitado em emOrdem: 42\n",
      "Nó visitado em emOrdem: 43\n",
      "Nó visitado em emOrdem: 45\n",
      "Nó visitado em emOrdem: 80\n",
      "Nó visitado em emOrdem: 82\n",
      "Nó visitado em emOrdem: 83\n",
      "Nó visitado em emOrdem: 84\n",
      "Nó visitado em emOrdem: 88\n",
      "Nó visitado em emOrdem: 90\n",
      "Nó visitado em emOrdem: 92\n",
      "Nó visitado em emOrdem: 95\n",
      "Nó visitado em emOrdem: 120\n",
      "\n",
      "Quantidade total de nós: 13\n"
     ]
    }
   ],
   "source": [
    "print('Elementos da árvore percorridos Em ordem: ')\n",
    "arv.emOrdem(arv.raiz)\n",
    "\n",
    "qtd_nos = arv.contaNos(arv.raiz)\n",
    "print(f'\\nQuantidade total de nós: {qtd_nos}')"
   ]
  },
  {
   "cell_type": "code",
   "execution_count": 4,
   "metadata": {},
   "outputs": [
    {
     "name": "stdout",
     "output_type": "stream",
     "text": [
      "Número de nós pares: 9\n"
     ]
    }
   ],
   "source": [
    "qtd_nos_pares = arv.contaNoPar(arv.raiz)\n",
    "print(f'Número de nós pares: {qtd_nos_pares}')"
   ]
  },
  {
   "cell_type": "code",
   "execution_count": 5,
   "metadata": {},
   "outputs": [
    {
     "name": "stdout",
     "output_type": "stream",
     "text": [
      "Quantidade de folhas na árvore: 3\n"
     ]
    }
   ],
   "source": [
    "qtd_folhas = arv.contaNosFolhas(arv.raiz)\n",
    "print(f'Quantidade de folhas na árvore: {qtd_folhas}')"
   ]
  },
  {
   "cell_type": "code",
   "execution_count": 6,
   "metadata": {},
   "outputs": [
    {
     "name": "stdout",
     "output_type": "stream",
     "text": [
      "Mostrando apenas os nós folhas da árvore: \n",
      "43\n",
      "83\n",
      "92\n"
     ]
    }
   ],
   "source": [
    "print('Mostrando apenas os nós folhas da árvore: ')\n",
    "arv.mostraNosFolhas(arv.raiz)"
   ]
  },
  {
   "cell_type": "code",
   "execution_count": 7,
   "metadata": {},
   "outputs": [
    {
     "name": "stdout",
     "output_type": "stream",
     "text": [
      "Menor valor inserido na árvore: 40\n"
     ]
    }
   ],
   "source": [
    "menor = arv.retornaMenor(arv.raiz)\n",
    "print(f'Menor valor inserido na árvore: {menor}')"
   ]
  },
  {
   "cell_type": "code",
   "execution_count": 8,
   "metadata": {},
   "outputs": [
    {
     "name": "stdout",
     "output_type": "stream",
     "text": [
      "Nível: 0 | Nó: 80\n",
      "Nível: 1 | Nó: 40\n",
      "Nível: 2 | Nó: 45\n",
      "Nível: 3 | Nó: 42\n",
      "Nível: 4 | Nó: 43\n",
      "Nível: 1 | Nó: 90\n",
      "Nível: 2 | Nó: 88\n",
      "Nível: 3 | Nó: 82\n",
      "Nível: 4 | Nó: 84\n",
      "Nível: 5 | Nó: 83\n",
      "Nível: 2 | Nó: 120\n",
      "Nível: 3 | Nó: 95\n",
      "Nível: 4 | Nó: 92\n"
     ]
    }
   ],
   "source": [
    "arv.mostraNivel(arv.raiz)"
   ]
  },
  {
   "cell_type": "code",
   "execution_count": 9,
   "metadata": {},
   "outputs": [
    {
     "data": {
      "text/plain": [
       "6"
      ]
     },
     "execution_count": 9,
     "metadata": {},
     "output_type": "execute_result"
    }
   ],
   "source": [
    "arv.calculaAltura(arv.raiz)"
   ]
  },
  {
   "cell_type": "code",
   "execution_count": 10,
   "metadata": {},
   "outputs": [
    {
     "name": "stdout",
     "output_type": "stream",
     "text": [
      "Nó visitado em emOrdem: 40\n",
      "Nó visitado em emOrdem: 42\n",
      "Nó visitado em emOrdem: 43\n",
      "Nó visitado em emOrdem: 45\n",
      "Nó visitado em emOrdem: 80\n",
      "Nó visitado em emOrdem: 82\n",
      "Nó visitado em emOrdem: 83\n",
      "Nó visitado em emOrdem: 84\n",
      "Nó visitado em emOrdem: 88\n",
      "Nó visitado em emOrdem: 90\n",
      "Nó visitado em emOrdem: 92\n",
      "Nó visitado em emOrdem: 95\n",
      "Nó visitado em emOrdem: 120\n",
      "\n",
      "\n",
      "Invertendo árvore:\n",
      "Nó visitado em emOrdem: 120\n",
      "Nó visitado em emOrdem: 95\n",
      "Nó visitado em emOrdem: 92\n",
      "Nó visitado em emOrdem: 90\n",
      "Nó visitado em emOrdem: 88\n",
      "Nó visitado em emOrdem: 84\n",
      "Nó visitado em emOrdem: 83\n",
      "Nó visitado em emOrdem: 82\n",
      "Nó visitado em emOrdem: 80\n",
      "Nó visitado em emOrdem: 45\n",
      "Nó visitado em emOrdem: 43\n",
      "Nó visitado em emOrdem: 42\n",
      "Nó visitado em emOrdem: 40\n"
     ]
    }
   ],
   "source": [
    "arv.emOrdem(arv.raiz)\n",
    "\n",
    "arv.inverteArvore(arv.raiz)\n",
    "print('\\n\\nInvertendo árvore:')\n",
    "arv.emOrdem(arv.raiz)"
   ]
  },
  {
   "cell_type": "markdown",
   "metadata": {},
   "source": [
    "**Algoritmo para remoção de nós** (passando para a função o valor do nó a ser removido):\n",
    "\n",
    "1) Encontrar qual nó possui o valor passado, posicionando um ponteiro nesse nó (que será removido) e um no seu nó pai\n",
    "2) Encontrar o nó que será o substituto - antecessor ou sucessor em ordem do nó que será removido. \n",
    "    - Se o nó só tiver filhos à esquerda, então usamos como substituto seu filho direto à esquerda, pois este é, garantidamente, seu antecessor em ordem\n",
    "    - Se o nó só tiver filhos à direita, então usamos como substituto seu filho direto à direita, pois este é, garantidamente, seu sucessor em ordem\n",
    "    - Agora, se o nó tiver tanto filhos à esquerda quanto filhos à direita precisaremos fazer mais movimentações:\n",
    "        - Primeiramente, devemos escolher se usaremos seu antecessor em ordem ou seu sucessor em ordem para substituí-lo. Para o nosso código, usaremos o **sucessor em ordem**\n",
    "        - Depois, devemos encontrar o sucessor em ordem e seu nó pai\n",
    "        - Por fim, fazer a movimentação da subárvore direita do nó substituto (se possuir) para o pai do substituto e seguir para o passo 3\n",
    "3) Movimentar os filhos do nó a ser removido para serem filhos do nó substituto\n",
    "4) Fazer com que o nó pai daquele que será removido referencie o nó substituto\n",
    "    - Caso o nó a ser removido seja a raiz, apenas atualizamos o ponteiro que é raiz da árvore\n"
   ]
  },
  {
   "cell_type": "markdown",
   "metadata": {},
   "source": [
    "> Observação: \n",
    "> - O antecessor em ordem de um nó é o nó mais à direita da subárvore esquerda desse nó\n",
    "> - O sucessor em ordem de um nó é o nó mais à esquerda da subárvore direita desse nó"
   ]
  },
  {
   "cell_type": "code",
   "execution_count": 11,
   "metadata": {},
   "outputs": [
    {
     "name": "stdout",
     "output_type": "stream",
     "text": [
      "Nó com o valor 90 não cadastrado!\n",
      "Nível: 0 | Nó: 80\n",
      "Nível: 1 | Nó: 90\n",
      "Nível: 2 | Nó: 120\n",
      "Nível: 3 | Nó: 95\n",
      "Nível: 4 | Nó: 92\n",
      "Nível: 2 | Nó: 88\n",
      "Nível: 3 | Nó: 82\n",
      "Nível: 4 | Nó: 84\n",
      "Nível: 5 | Nó: 83\n",
      "Nível: 1 | Nó: 40\n",
      "Nível: 2 | Nó: 45\n",
      "Nível: 3 | Nó: 42\n",
      "Nível: 4 | Nó: 43\n"
     ]
    }
   ],
   "source": [
    "arv.removeNo(90) \n",
    "arv.mostraNivel(arv.raiz)"
   ]
  }
 ],
 "metadata": {
  "kernelspec": {
   "display_name": "Python 3",
   "language": "python",
   "name": "python3"
  },
  "language_info": {
   "codemirror_mode": {
    "name": "ipython",
    "version": 3
   },
   "file_extension": ".py",
   "mimetype": "text/x-python",
   "name": "python",
   "nbconvert_exporter": "python",
   "pygments_lexer": "ipython3",
   "version": "3.11.4"
  },
  "orig_nbformat": 4
 },
 "nbformat": 4,
 "nbformat_minor": 2
}
