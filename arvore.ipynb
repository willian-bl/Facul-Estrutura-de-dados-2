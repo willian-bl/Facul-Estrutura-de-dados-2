{
 "cells": [
  {
   "cell_type": "markdown",
   "metadata": {},
   "source": [
    "> # Árvore\n",
    "---"
   ]
  },
  {
   "cell_type": "markdown",
   "metadata": {},
   "source": [
    "**Árvore**: Estrutura hierárquica\n",
    "- Ex: organograma de uma empresa\n",
    "- A árvore mais simples é a binária, árvore onde cada elemento possui, no máximo, 2 filhos. Porém, também temos a árvore multi-vias ou n-árias\n",
    "\n",
    "Durante as aulas, veremos: \n",
    "- Balanceamento de árvores\n",
    "- Inserção e exclusão de elementos\n",
    "- Percorrer árvore\n",
    "    - Pré-ordem\n",
    "    - Em ordem\n",
    "    - Pós ordem\n",
    "- Transformar uma árvore em arquivos Python"
   ]
  }
 ],
 "metadata": {
  "language_info": {
   "name": "python"
  },
  "orig_nbformat": 4
 },
 "nbformat": 4,
 "nbformat_minor": 2
}
