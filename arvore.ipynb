{
 "cells": [
  {
   "cell_type": "markdown",
   "metadata": {},
   "source": [
    "> # Árvore\n",
    "---"
   ]
  },
  {
   "cell_type": "markdown",
   "metadata": {},
   "source": [
    "## Teoria e anotações"
   ]
  },
  {
   "cell_type": "markdown",
   "metadata": {},
   "source": [
    "### Introdução"
   ]
  },
  {
   "cell_type": "markdown",
   "metadata": {},
   "source": [
    "**Árvore**: Estrutura hierárquica\n",
    "- Ex: organograma de uma empresa\n",
    "- A árvore mais simples é a binária, árvore onde cada elemento possui, no máximo, 2 filhos. Porém, também temos a árvore multi-vias ou n-árias\n",
    "\n",
    "Durante as aulas, veremos: \n",
    "- Balanceamento de árvores\n",
    "- Inserção e exclusão de elementos\n",
    "- Percorrer árvore\n",
    "    - Pré-ordem\n",
    "    - Em ordem\n",
    "    - Pós ordem\n",
    "- Transformar uma árvore em arquivos Python"
   ]
  },
  {
   "cell_type": "markdown",
   "metadata": {},
   "source": [
    "### Anotações do Material teórico"
   ]
  },
  {
   "cell_type": "markdown",
   "metadata": {},
   "source": [
    "- Árvore é uma estrutura recursiva\n",
    "- Os elementos de uma árvore são chamados nós\n",
    "- Um nó sem filhos chama-se \"nó folha\" ou \"nó terminal\"\n",
    "- Ramo é o segmento (linha) que une 2 nós\n",
    "\n",
    "- Grau de um nó: quantidade de filhos o nó tem\n",
    "    - Grau da árvore: maior grau de um nó da árvore\n",
    "- Nível: quantas ligações até chegar no nó raiz\n",
    "    - Raiz é nível 0\n",
    "- Altura: maior nível que a árvore possui"
   ]
  },
  {
   "cell_type": "markdown",
   "metadata": {},
   "source": [
    "#### Árvore binária\n",
    "> O maior grau do nó é 2"
   ]
  },
  {
   "cell_type": "markdown",
   "metadata": {},
   "source": [
    "#### Subdivisões:\n",
    "\n",
    "- Árvore estritamente binária: Os nós que não são folhas possuem, obrigatoriamente, 2 filhos (só temos nós com 0 ou 2 filhos, não temos nós somente com 1 filho)\n",
    "\n",
    "- Árvore binária completa: Todas as folhas estão no mesmo nível"
   ]
  },
  {
   "cell_type": "markdown",
   "metadata": {},
   "source": [
    "#### Percurso:\n",
    "\n",
    "Formas de percorrer a árvore (não é simples como a lista, onde vamos de um elemento para o outro em \"linha reta\")\n",
    "\n",
    "- No pré-ordem a raiz é a primeira a ser mostrada\n",
    "- Em ordem\n",
    "- No pós-ordem a raiz é a última\n",
    "\n",
    "*Visitar o nó* é mostrá-lo ou fazer o que temos que fazer com ele\n",
    "\n",
    "Técnica para montar a sequência de um percurso: <br/>\n",
    "Fazemos o contorno da árvore e vamos \"tocando\" os nós (seria o equivalente a visitá-los). Para cada tipo de percurso tocamos os nós de um lado:\n",
    "- \"tocando pela esquerda\": pré-ordem\n",
    "- \"tocando por baixo\": em ordem\n",
    "- \"tocando pela direita\": pós-ordem    "
   ]
  },
  {
   "cell_type": "markdown",
   "metadata": {},
   "source": [
    "#### Árvore binária de busca\n",
    "- É um tipo de árvore binária\n",
    "- É uma estrutura ordenada:\n",
    "    - Elementos menores que a raiz são inseridos à esquerda\n",
    "    - Elementos maiores que a raiz são inseridos à direita\n",
    "- Percurso **em ordem** em uma árvore binária de busca resulta em valores em ordem crescente"
   ]
  },
  {
   "cell_type": "markdown",
   "metadata": {},
   "source": [
    "#### Inserir e retirar elementos\n",
    "- A inserção e retirada de elementos deve **seguir as regras** da árvore binária e, se for uma árvore binária de busca, as estrições desta última\n",
    "- A **retirada** de elementos de uma árvore binária de busca, particularmente, não é uma tarefa simples, já que para que as características da árvore sejam mantidas, devemos \"movimentar\" os nós, de forma que o nó retirado deve ser substituído pelo seu **antecessor em ordem** ou **sucessor em ordem** "
   ]
  },
  {
   "cell_type": "markdown",
   "metadata": {},
   "source": [
    "## Exercícios"
   ]
  },
  {
   "cell_type": "markdown",
   "metadata": {},
   "source": [
    "### Árvore binária de busca"
   ]
  },
  {
   "cell_type": "markdown",
   "metadata": {},
   "source": [
    "Trabalharemos com a árvore binária de busca:\n",
    "- Nós com grau 2\n",
    "- Elementos maiores que o nó à esquerda e menores que o nó à direita"
   ]
  },
  {
   "cell_type": "code",
   "execution_count": 1,
   "metadata": {},
   "outputs": [],
   "source": [
    "# NoArvore é o tipo do objeto que será inserido na nossa árvore\n",
    "\n",
    "class NoArvore:\n",
    "    def __init__(self,info):\n",
    "        self.info=info\n",
    "        self.esq=None\n",
    "        self.dir=None\n",
    "\n",
    "    def getInfo(self):  # Apenas para fins didáticos faremos o get e set, já que no python os atributos são públicos por padrão.\n",
    "        return self.info\n",
    "\n",
    "    def getEsq(self):\n",
    "        return self.esq\n",
    "\n",
    "    def setEsq(self,esq):\n",
    "        self.esq=esq\n",
    "\n",
    "    def getDir(self):\n",
    "        return self.dir\n",
    "\n",
    "    def setDir(self,dir):\n",
    "        self.dir=dir\n"
   ]
  },
  {
   "cell_type": "code",
   "execution_count": 2,
   "metadata": {},
   "outputs": [],
   "source": [
    "class Arvore:\n",
    "\n",
    "    def __init__(self):\n",
    "        self.raiz=None\n",
    "\n",
    "    def montaArvore(self,x):\n",
    "        if self.raiz==None:\n",
    "            no=NoArvore(x)\n",
    "            self.raiz=no\n",
    "            return\n",
    "        q=None\n",
    "        p=self.raiz\n",
    "        while p and p.getInfo()!=x: # while é para encontrar o elemento pai daquele que queremos inserir (x)\n",
    "            q=p  # q aponta para o pai do nó p\n",
    "            if (x<p.getInfo()):\n",
    "                p=p.getEsq()\n",
    "            else:\n",
    "                p=p.getDir()\n",
    "\n",
    "        if p:\n",
    "            print(f'Informacao ja cadastrada')\n",
    "            return\n",
    "        p=NoArvore(x)\n",
    "        if x<q.getInfo():\n",
    "            q.setEsq(p)\n",
    "        else:\n",
    "            q.setDir(p)\n",
    "\n",
    "    def preOrdem(self,p):\n",
    "        if p:\n",
    "            print(f'no visitado em preOrdem: {p.getInfo()}')\n",
    "            self.preOrdem(p.getEsq())\n",
    "            self.preOrdem(p.getDir())\n",
    "\n",
    "    def emOrdem(self,p):\n",
    "        if p:\n",
    "            self.emOrdem(p.getEsq())\n",
    "            print(f'no visitado em emOrdem: {p.getInfo()}')\n",
    "            self.emOrdem(p.getDir())\n",
    "\n",
    "\n",
    "    def posOrdem(self,p):\n",
    "        if p:\n",
    "            self.posOrdem(p.getEsq())\n",
    "            self.posOrdem(p.getDir())\n",
    "            print(f'no visitado em posOrdem: {p.getInfo()}')\n",
    "\n",
    "\n",
    "    def contaNo(self, no):\n",
    "        if not no:\n",
    "            return 0\n",
    "        \n",
    "        cont = 0\n",
    "\n",
    "        esquerda = no.getEsq()\n",
    "        if esquerda:\n",
    "            cont += self.contaNo(esquerda) \n",
    "        \n",
    "        direita = no.getDir()\n",
    "        if direita:\n",
    "            cont += self.contaNo(direita)\n",
    "\n",
    "        return 1 + cont\n",
    "    \n",
    "    def contaNoPar(self, p):\n",
    "        if not p:\n",
    "            return 0\n",
    "        \n",
    "        if p.getInfo() % 2 == 0:\n",
    "            return 1 + self.contaNoPar(p.getEsq()) + self.contaNoPar(p.getDir())\n",
    "        else:\n",
    "            return 0 + self.contaNoPar(p.getEsq()) + self.contaNoPar(p.getDir())\n",
    "        \n",
    "    # Fazer uma função para contar os nós terminais (folha)\n",
    "    def contaNosFolhas(self, p):\n",
    "        if not p:\n",
    "            return 0\n",
    "        \n",
    "        if not p.getEsq() and not p.getDir():\n",
    "            return 1\n",
    "        else:\n",
    "            return 0 + self.contaNosFolhas(p.getEsq()) + self.contaNosFolhas(p.getDir())\n",
    "\n",
    "    # Fazer uma função para MOSTRAR os nós terminais (folhas)\n",
    "    def mostraNosFolhas(self, p):\n",
    "        if p == None:\n",
    "            return\n",
    "\n",
    "        if not p.getEsq() and not p.getDir():\n",
    "            print(p.getInfo())\n",
    "            return\n",
    "        else:\n",
    "            self.mostraNosFolhas(p.getEsq())\n",
    "            self.mostraNosFolhas(p.getDir())\n",
    "\n",
    "\n",
    "\n",
    "arv=Arvore()\n",
    "arv.montaArvore(80)\n",
    "arv.montaArvore(40)\n",
    "arv.montaArvore(45)\n",
    "arv.montaArvore(90)\n",
    "arv.montaArvore(120)\n",
    "arv.montaArvore(88)\n",
    "arv.montaArvore(82)\n",
    "arv.montaArvore(95)\n",
    "arv.montaArvore(84)\n",
    "arv.montaArvore(42)\n",
    "arv.montaArvore(43)\n",
    "arv.montaArvore(92)\n",
    "arv.montaArvore(83)"
   ]
  },
  {
   "cell_type": "code",
   "execution_count": 3,
   "metadata": {},
   "outputs": [
    {
     "name": "stdout",
     "output_type": "stream",
     "text": [
      "no visitado em emOrdem: 40\n",
      "no visitado em emOrdem: 42\n",
      "no visitado em emOrdem: 43\n",
      "no visitado em emOrdem: 45\n",
      "no visitado em emOrdem: 80\n",
      "no visitado em emOrdem: 82\n",
      "no visitado em emOrdem: 83\n",
      "no visitado em emOrdem: 84\n",
      "no visitado em emOrdem: 88\n",
      "no visitado em emOrdem: 90\n",
      "no visitado em emOrdem: 92\n",
      "no visitado em emOrdem: 95\n",
      "no visitado em emOrdem: 120\n"
     ]
    },
    {
     "data": {
      "text/plain": [
       "13"
      ]
     },
     "execution_count": 3,
     "metadata": {},
     "output_type": "execute_result"
    }
   ],
   "source": [
    "arv.emOrdem(arv.raiz)\n",
    "arv.contaNo(arv.raiz)"
   ]
  },
  {
   "cell_type": "code",
   "execution_count": 4,
   "metadata": {},
   "outputs": [
    {
     "data": {
      "text/plain": [
       "9"
      ]
     },
     "execution_count": 4,
     "metadata": {},
     "output_type": "execute_result"
    }
   ],
   "source": [
    "arv.contaNoPar(arv.raiz)"
   ]
  },
  {
   "cell_type": "code",
   "execution_count": 5,
   "metadata": {},
   "outputs": [
    {
     "data": {
      "text/plain": [
       "3"
      ]
     },
     "execution_count": 5,
     "metadata": {},
     "output_type": "execute_result"
    }
   ],
   "source": [
    "arv.contaNosFolhas(arv.raiz)"
   ]
  },
  {
   "cell_type": "code",
   "execution_count": 6,
   "metadata": {},
   "outputs": [
    {
     "name": "stdout",
     "output_type": "stream",
     "text": [
      "43\n",
      "83\n",
      "92\n"
     ]
    }
   ],
   "source": [
    "arv.mostraNosFolhas(arv.raiz)"
   ]
  },
  {
   "cell_type": "code",
   "execution_count": null,
   "metadata": {},
   "outputs": [],
   "source": []
  }
 ],
 "metadata": {
  "kernelspec": {
   "display_name": "Python 3",
   "language": "python",
   "name": "python3"
  },
  "language_info": {
   "codemirror_mode": {
    "name": "ipython",
    "version": 3
   },
   "file_extension": ".py",
   "mimetype": "text/x-python",
   "name": "python",
   "nbconvert_exporter": "python",
   "pygments_lexer": "ipython3",
   "version": "3.11.4"
  },
  "orig_nbformat": 4
 },
 "nbformat": 4,
 "nbformat_minor": 2
}
